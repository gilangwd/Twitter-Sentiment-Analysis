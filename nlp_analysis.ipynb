{
 "cells": [
  {
   "cell_type": "markdown",
   "metadata": {},
   "source": [
    "# 1 - Introduction"
   ]
  },
  {
   "cell_type": "markdown",
   "metadata": {},
   "source": [
    "Name : Gilang Wiradhyaksa\n",
    "\n",
    "Batch : SBY - 001\n",
    "\n",
    "Data : [Twitter Sentiment Analysis](https://www.kaggle.com/datasets/jp797498e/twitter-entity-sentiment-analysis/data)"
   ]
  },
  {
   "cell_type": "markdown",
   "metadata": {},
   "source": [
    "# 2 - Import Libraries"
   ]
  },
  {
   "cell_type": "code",
   "execution_count": 2,
   "metadata": {},
   "outputs": [
    {
     "name": "stdout",
     "output_type": "stream",
     "text": [
      "WARNING:tensorflow:From c:\\ProgramData\\miniconda3\\Lib\\site-packages\\keras\\src\\losses.py:2976: The name tf.losses.sparse_softmax_cross_entropy is deprecated. Please use tf.compat.v1.losses.sparse_softmax_cross_entropy instead.\n",
      "\n"
     ]
    },
    {
     "name": "stderr",
     "output_type": "stream",
     "text": [
      "[nltk_data] Downloading package stopwords to\n",
      "[nltk_data]     C:\\Users\\GilangW\\AppData\\Roaming\\nltk_data...\n",
      "[nltk_data]   Package stopwords is already up-to-date!\n",
      "[nltk_data] Downloading package punkt to\n",
      "[nltk_data]     C:\\Users\\GilangW\\AppData\\Roaming\\nltk_data...\n",
      "[nltk_data]   Package punkt is already up-to-date!\n"
     ]
    },
    {
     "data": {
      "text/plain": [
       "True"
      ]
     },
     "execution_count": 2,
     "metadata": {},
     "output_type": "execute_result"
    }
   ],
   "source": [
    "import re\n",
    "import nltk\n",
    "import string\n",
    "import numpy as np\n",
    "import pandas as pd\n",
    "import seaborn as sns\n",
    "import matplotlib.pyplot as plt\n",
    "\n",
    "import tensorflow as tf\n",
    "import tensorflow_hub as tf_hub\n",
    "\n",
    "from nltk.tokenize import word_tokenize\n",
    "from sklearn.model_selection import train_test_split\n",
    "from sklearn.feature_extraction.text import CountVectorizer\n",
    "\n",
    "nltk.download('stopwords')\n",
    "nltk.download('punkt')"
   ]
  },
  {
   "cell_type": "markdown",
   "metadata": {},
   "source": [
    "# 3 - Data Loading"
   ]
  },
  {
   "cell_type": "code",
   "execution_count": 3,
   "metadata": {},
   "outputs": [],
   "source": [
    "df_ori = pd.read_csv('twitter_training.csv')#, index_col=0)\n",
    "df_val = pd.read_csv('twitter_validation.csv')#, index_col=0)"
   ]
  },
  {
   "cell_type": "code",
   "execution_count": 4,
   "metadata": {},
   "outputs": [],
   "source": [
    "df = df_ori.copy()"
   ]
  },
  {
   "cell_type": "markdown",
   "metadata": {},
   "source": [
    "# 4 - Data Cleaning"
   ]
  },
  {
   "cell_type": "code",
   "execution_count": 5,
   "metadata": {},
   "outputs": [
    {
     "data": {
      "text/html": [
       "<div>\n",
       "<style scoped>\n",
       "    .dataframe tbody tr th:only-of-type {\n",
       "        vertical-align: middle;\n",
       "    }\n",
       "\n",
       "    .dataframe tbody tr th {\n",
       "        vertical-align: top;\n",
       "    }\n",
       "\n",
       "    .dataframe thead th {\n",
       "        text-align: right;\n",
       "    }\n",
       "</style>\n",
       "<table border=\"1\" class=\"dataframe\">\n",
       "  <thead>\n",
       "    <tr style=\"text-align: right;\">\n",
       "      <th></th>\n",
       "      <th>id</th>\n",
       "      <th>entity</th>\n",
       "      <th>sentiment</th>\n",
       "      <th>tweet_content</th>\n",
       "    </tr>\n",
       "  </thead>\n",
       "  <tbody>\n",
       "    <tr>\n",
       "      <th>0</th>\n",
       "      <td>2401</td>\n",
       "      <td>Borderlands</td>\n",
       "      <td>Positive</td>\n",
       "      <td>I am coming to the borders and I will kill you...</td>\n",
       "    </tr>\n",
       "    <tr>\n",
       "      <th>1</th>\n",
       "      <td>2401</td>\n",
       "      <td>Borderlands</td>\n",
       "      <td>Positive</td>\n",
       "      <td>im getting on borderlands and i will kill you ...</td>\n",
       "    </tr>\n",
       "    <tr>\n",
       "      <th>2</th>\n",
       "      <td>2401</td>\n",
       "      <td>Borderlands</td>\n",
       "      <td>Positive</td>\n",
       "      <td>im coming on borderlands and i will murder you...</td>\n",
       "    </tr>\n",
       "    <tr>\n",
       "      <th>3</th>\n",
       "      <td>2401</td>\n",
       "      <td>Borderlands</td>\n",
       "      <td>Positive</td>\n",
       "      <td>im getting on borderlands 2 and i will murder ...</td>\n",
       "    </tr>\n",
       "    <tr>\n",
       "      <th>4</th>\n",
       "      <td>2401</td>\n",
       "      <td>Borderlands</td>\n",
       "      <td>Positive</td>\n",
       "      <td>im getting into borderlands and i can murder y...</td>\n",
       "    </tr>\n",
       "  </tbody>\n",
       "</table>\n",
       "</div>"
      ],
      "text/plain": [
       "     id       entity sentiment  \\\n",
       "0  2401  Borderlands  Positive   \n",
       "1  2401  Borderlands  Positive   \n",
       "2  2401  Borderlands  Positive   \n",
       "3  2401  Borderlands  Positive   \n",
       "4  2401  Borderlands  Positive   \n",
       "\n",
       "                                       tweet_content  \n",
       "0  I am coming to the borders and I will kill you...  \n",
       "1  im getting on borderlands and i will kill you ...  \n",
       "2  im coming on borderlands and i will murder you...  \n",
       "3  im getting on borderlands 2 and i will murder ...  \n",
       "4  im getting into borderlands and i can murder y...  "
      ]
     },
     "execution_count": 5,
     "metadata": {},
     "output_type": "execute_result"
    }
   ],
   "source": [
    "df.columns = ['id','entity','sentiment','tweet_content']\n",
    "df.head()"
   ]
  },
  {
   "cell_type": "code",
   "execution_count": 6,
   "metadata": {},
   "outputs": [
    {
     "name": "stdout",
     "output_type": "stream",
     "text": [
      "<class 'pandas.core.frame.DataFrame'>\n",
      "RangeIndex: 74681 entries, 0 to 74680\n",
      "Data columns (total 4 columns):\n",
      " #   Column         Non-Null Count  Dtype \n",
      "---  ------         --------------  ----- \n",
      " 0   id             74681 non-null  int64 \n",
      " 1   entity         74681 non-null  object\n",
      " 2   sentiment      74681 non-null  object\n",
      " 3   tweet_content  73995 non-null  object\n",
      "dtypes: int64(1), object(3)\n",
      "memory usage: 2.3+ MB\n"
     ]
    }
   ],
   "source": [
    "df.info()"
   ]
  },
  {
   "cell_type": "code",
   "execution_count": 7,
   "metadata": {},
   "outputs": [
    {
     "name": "stdout",
     "output_type": "stream",
     "text": [
      "<class 'pandas.core.frame.DataFrame'>\n",
      "RangeIndex: 74681 entries, 0 to 74680\n",
      "Data columns (total 4 columns):\n",
      " #   Column         Non-Null Count  Dtype \n",
      "---  ------         --------------  ----- \n",
      " 0   id             74681 non-null  int64 \n",
      " 1   entity         74681 non-null  object\n",
      " 2   sentiment      74681 non-null  object\n",
      " 3   tweet_content  74681 non-null  object\n",
      "dtypes: int64(1), object(3)\n",
      "memory usage: 2.3+ MB\n"
     ]
    }
   ],
   "source": [
    "df['tweet_content'] = df['tweet_content'].astype(str)\n",
    "df.info()"
   ]
  },
  {
   "cell_type": "code",
   "execution_count": 8,
   "metadata": {},
   "outputs": [
    {
     "data": {
      "text/plain": [
       "Index(['id', 'entity', 'sentiment', 'tweet_content'], dtype='object')"
      ]
     },
     "execution_count": 8,
     "metadata": {},
     "output_type": "execute_result"
    }
   ],
   "source": [
    "df.columns"
   ]
  },
  {
   "cell_type": "code",
   "execution_count": 9,
   "metadata": {},
   "outputs": [],
   "source": [
    "# df.rename(columns=lambda x: x.strip().replace(' ', '').lower(), inplace=True)\n",
    "df = df.rename(columns=lambda x: x.strip())"
   ]
  },
  {
   "cell_type": "code",
   "execution_count": 10,
   "metadata": {},
   "outputs": [
    {
     "data": {
      "text/plain": [
       "Index(['id', 'entity', 'sentiment', 'tweet_content'], dtype='object')"
      ]
     },
     "execution_count": 10,
     "metadata": {},
     "output_type": "execute_result"
    }
   ],
   "source": [
    "df.columns"
   ]
  },
  {
   "cell_type": "code",
   "execution_count": 11,
   "metadata": {},
   "outputs": [
    {
     "data": {
      "text/plain": [
       "id               12447\n",
       "entity              32\n",
       "sentiment            4\n",
       "tweet_content    69491\n",
       "dtype: int64"
      ]
     },
     "execution_count": 11,
     "metadata": {},
     "output_type": "execute_result"
    }
   ],
   "source": [
    "df.nunique()"
   ]
  },
  {
   "cell_type": "code",
   "execution_count": 12,
   "metadata": {},
   "outputs": [
    {
     "name": "stdout",
     "output_type": "stream",
     "text": [
      "['Borderlands' 'CallOfDutyBlackopsColdWar' 'Amazon' 'Overwatch'\n",
      " 'Xbox(Xseries)' 'NBA2K' 'Dota2' 'PlayStation5(PS5)' 'WorldOfCraft'\n",
      " 'CS-GO' 'Google' 'AssassinsCreed' 'ApexLegends' 'LeagueOfLegends'\n",
      " 'Fortnite' 'Microsoft' 'Hearthstone' 'Battlefield'\n",
      " 'PlayerUnknownsBattlegrounds(PUBG)' 'Verizon' 'HomeDepot' 'FIFA'\n",
      " 'RedDeadRedemption(RDR)' 'CallOfDuty' 'TomClancysRainbowSix' 'Facebook'\n",
      " 'GrandTheftAuto(GTA)' 'MaddenNFL' 'johnson&johnson' 'Cyberpunk2077'\n",
      " 'TomClancysGhostRecon' 'Nvidia']\n",
      "['Positive' 'Neutral' 'Negative' 'Irrelevant']\n"
     ]
    }
   ],
   "source": [
    "print(df['entity'].unique())\n",
    "print(df['sentiment'].unique())"
   ]
  },
  {
   "cell_type": "code",
   "execution_count": 13,
   "metadata": {},
   "outputs": [
    {
     "data": {
      "text/html": [
       "<div>\n",
       "<style scoped>\n",
       "    .dataframe tbody tr th:only-of-type {\n",
       "        vertical-align: middle;\n",
       "    }\n",
       "\n",
       "    .dataframe tbody tr th {\n",
       "        vertical-align: top;\n",
       "    }\n",
       "\n",
       "    .dataframe thead th {\n",
       "        text-align: right;\n",
       "    }\n",
       "</style>\n",
       "<table border=\"1\" class=\"dataframe\">\n",
       "  <thead>\n",
       "    <tr style=\"text-align: right;\">\n",
       "      <th></th>\n",
       "      <th>id</th>\n",
       "      <th>entity</th>\n",
       "      <th>sentiment</th>\n",
       "      <th>tweet_content</th>\n",
       "    </tr>\n",
       "  </thead>\n",
       "  <tbody>\n",
       "    <tr>\n",
       "      <th>0</th>\n",
       "      <td>352</td>\n",
       "      <td>Amazon</td>\n",
       "      <td>Neutral</td>\n",
       "      <td>BBC News - Amazon boss Jeff Bezos rejects clai...</td>\n",
       "    </tr>\n",
       "    <tr>\n",
       "      <th>1</th>\n",
       "      <td>8312</td>\n",
       "      <td>Microsoft</td>\n",
       "      <td>Negative</td>\n",
       "      <td>@Microsoft Why do I pay for WORD when it funct...</td>\n",
       "    </tr>\n",
       "    <tr>\n",
       "      <th>2</th>\n",
       "      <td>4371</td>\n",
       "      <td>CS-GO</td>\n",
       "      <td>Negative</td>\n",
       "      <td>CSGO matchmaking is so full of closet hacking,...</td>\n",
       "    </tr>\n",
       "    <tr>\n",
       "      <th>3</th>\n",
       "      <td>4433</td>\n",
       "      <td>Google</td>\n",
       "      <td>Neutral</td>\n",
       "      <td>Now the President is slapping Americans in the...</td>\n",
       "    </tr>\n",
       "    <tr>\n",
       "      <th>4</th>\n",
       "      <td>6273</td>\n",
       "      <td>FIFA</td>\n",
       "      <td>Negative</td>\n",
       "      <td>Hi @EAHelp I’ve had Madeleine McCann in my cel...</td>\n",
       "    </tr>\n",
       "  </tbody>\n",
       "</table>\n",
       "</div>"
      ],
      "text/plain": [
       "     id     entity sentiment  \\\n",
       "0   352     Amazon   Neutral   \n",
       "1  8312  Microsoft  Negative   \n",
       "2  4371      CS-GO  Negative   \n",
       "3  4433     Google   Neutral   \n",
       "4  6273       FIFA  Negative   \n",
       "\n",
       "                                       tweet_content  \n",
       "0  BBC News - Amazon boss Jeff Bezos rejects clai...  \n",
       "1  @Microsoft Why do I pay for WORD when it funct...  \n",
       "2  CSGO matchmaking is so full of closet hacking,...  \n",
       "3  Now the President is slapping Americans in the...  \n",
       "4  Hi @EAHelp I’ve had Madeleine McCann in my cel...  "
      ]
     },
     "execution_count": 13,
     "metadata": {},
     "output_type": "execute_result"
    }
   ],
   "source": [
    "df_val.columns = ['id','entity','sentiment','tweet_content']\n",
    "df_val.head()"
   ]
  },
  {
   "cell_type": "code",
   "execution_count": 14,
   "metadata": {},
   "outputs": [
    {
     "name": "stdout",
     "output_type": "stream",
     "text": [
      "['Amazon' 'Microsoft' 'CS-GO' 'Google' 'FIFA' 'MaddenNFL'\n",
      " 'TomClancysRainbowSix' 'AssassinsCreed' 'CallOfDuty' 'Dota2' 'Verizon'\n",
      " 'NBA2K' 'Nvidia' 'GrandTheftAuto(GTA)' 'RedDeadRedemption(RDR)'\n",
      " 'Hearthstone' 'ApexLegends' 'Overwatch'\n",
      " 'PlayerUnknownsBattlegrounds(PUBG)' 'Borderlands' 'PlayStation5(PS5)'\n",
      " 'johnson&johnson' 'Fortnite' 'Xbox(Xseries)' 'CallOfDutyBlackopsColdWar'\n",
      " 'Facebook' 'HomeDepot' 'Cyberpunk2077' 'TomClancysGhostRecon'\n",
      " 'WorldOfCraft' 'LeagueOfLegends' 'Battlefield']\n",
      "['Neutral' 'Negative' 'Positive' 'Irrelevant']\n"
     ]
    }
   ],
   "source": [
    "print(df_val['entity'].unique())\n",
    "print(df_val['sentiment'].unique())"
   ]
  },
  {
   "cell_type": "markdown",
   "metadata": {},
   "source": [
    "# 5 - Feature Engineering"
   ]
  },
  {
   "cell_type": "markdown",
   "metadata": {},
   "source": [
    "## 5.1 - Text Preprocessing"
   ]
  },
  {
   "cell_type": "code",
   "execution_count": 15,
   "metadata": {},
   "outputs": [
    {
     "name": "stdout",
     "output_type": "stream",
     "text": [
      "['agaknya', 'mulanya', 'demikian', 'beginian', 'mampukah']\n"
     ]
    }
   ],
   "source": [
    "# INDONESIAN STOPWORDS\n",
    "# stopwords_nltk = nltk.corpus.stopwords\n",
    "from nltk.corpus import stopwords\n",
    "stpwds_id = list(set(stopwords.words('indonesian')))\n",
    "stpwds_id.append('oh')\n",
    "print(stpwds_id[:5])\n",
    "\n",
    "# Define Stemming\n",
    "from Sastrawi.Stemmer.StemmerFactory import StemmerFactory\n",
    "stemmer_id = StemmerFactory().create_stemmer()"
   ]
  },
  {
   "cell_type": "code",
   "execution_count": 16,
   "metadata": {},
   "outputs": [
    {
     "name": "stdout",
     "output_type": "stream",
     "text": [
      "['i', 'me', 'my', 'myself', 'we']\n"
     ]
    }
   ],
   "source": [
    "# ENGLISH STOPWORDS\n",
    "# stopwords_nltk = nltk.corpus.stopwords\n",
    "stop_words = stopwords.words('english')\n",
    "print(stop_words[:5])\n",
    "\n",
    "# Define Stemming\n",
    "from nltk.stem import PorterStemmer\n",
    "stemmer = PorterStemmer()"
   ]
  },
  {
   "cell_type": "code",
   "execution_count": 17,
   "metadata": {},
   "outputs": [],
   "source": [
    "# Create A Function for Text Preprocessing\n",
    "def text_preprocessing(text):\n",
    "  # # Case folding\n",
    "  text = text.lower()\n",
    "\n",
    "  # Mention removal\n",
    "  text = re.sub(\"@[A-Za-z0-9_]+\", \" \", text)\n",
    "\n",
    "  # Hashtags removal\n",
    "  text = re.sub(\"#[A-Za-z0-9_]+\", \" \", text)\n",
    "\n",
    "  # Newline removal (\\n)\n",
    "  text = re.sub(r\"\\\\n\", \" \",text)\n",
    "\n",
    "  # Whitespace removal\n",
    "  text = text.strip()\n",
    "\n",
    "  # URL removal\n",
    "  text = re.sub(r\"http\\S+\", \" \", text)\n",
    "  text = re.sub(r\"www.\\S+\", \" \", text)\n",
    "\n",
    "  # Non-letter removal (such as emoticon, symbol (like μ, $, 兀), etc\n",
    "  text = re.sub(\"[^A-Za-z\\s']\", \" \", text)\n",
    "\n",
    "  # Tokenization\n",
    "  tokens = word_tokenize(text)\n",
    "\n",
    "  # Stopwords removal\n",
    "  tokens = [word for word in tokens if word not in stop_words]\n",
    "\n",
    "  # Stemming\n",
    "  tokens = [stemmer.stem(word) for word in tokens]\n",
    "\n",
    "  # Combining Tokens\n",
    "  text = ' '.join(tokens)\n",
    "\n",
    "  return text"
   ]
  },
  {
   "cell_type": "code",
   "execution_count": 18,
   "metadata": {},
   "outputs": [
    {
     "data": {
      "text/html": [
       "<div>\n",
       "<style scoped>\n",
       "    .dataframe tbody tr th:only-of-type {\n",
       "        vertical-align: middle;\n",
       "    }\n",
       "\n",
       "    .dataframe tbody tr th {\n",
       "        vertical-align: top;\n",
       "    }\n",
       "\n",
       "    .dataframe thead th {\n",
       "        text-align: right;\n",
       "    }\n",
       "</style>\n",
       "<table border=\"1\" class=\"dataframe\">\n",
       "  <thead>\n",
       "    <tr style=\"text-align: right;\">\n",
       "      <th></th>\n",
       "      <th>id</th>\n",
       "      <th>entity</th>\n",
       "      <th>sentiment</th>\n",
       "      <th>tweet_content</th>\n",
       "      <th>text_processed</th>\n",
       "    </tr>\n",
       "  </thead>\n",
       "  <tbody>\n",
       "    <tr>\n",
       "      <th>0</th>\n",
       "      <td>2401</td>\n",
       "      <td>Borderlands</td>\n",
       "      <td>Positive</td>\n",
       "      <td>I am coming to the borders and I will kill you...</td>\n",
       "      <td>come border kill</td>\n",
       "    </tr>\n",
       "    <tr>\n",
       "      <th>1</th>\n",
       "      <td>2401</td>\n",
       "      <td>Borderlands</td>\n",
       "      <td>Positive</td>\n",
       "      <td>im getting on borderlands and i will kill you ...</td>\n",
       "      <td>im get borderland kill</td>\n",
       "    </tr>\n",
       "    <tr>\n",
       "      <th>2</th>\n",
       "      <td>2401</td>\n",
       "      <td>Borderlands</td>\n",
       "      <td>Positive</td>\n",
       "      <td>im coming on borderlands and i will murder you...</td>\n",
       "      <td>im come borderland murder</td>\n",
       "    </tr>\n",
       "    <tr>\n",
       "      <th>3</th>\n",
       "      <td>2401</td>\n",
       "      <td>Borderlands</td>\n",
       "      <td>Positive</td>\n",
       "      <td>im getting on borderlands 2 and i will murder ...</td>\n",
       "      <td>im get borderland murder</td>\n",
       "    </tr>\n",
       "    <tr>\n",
       "      <th>4</th>\n",
       "      <td>2401</td>\n",
       "      <td>Borderlands</td>\n",
       "      <td>Positive</td>\n",
       "      <td>im getting into borderlands and i can murder y...</td>\n",
       "      <td>im get borderland murder</td>\n",
       "    </tr>\n",
       "    <tr>\n",
       "      <th>...</th>\n",
       "      <td>...</td>\n",
       "      <td>...</td>\n",
       "      <td>...</td>\n",
       "      <td>...</td>\n",
       "      <td>...</td>\n",
       "    </tr>\n",
       "    <tr>\n",
       "      <th>74676</th>\n",
       "      <td>9200</td>\n",
       "      <td>Nvidia</td>\n",
       "      <td>Positive</td>\n",
       "      <td>Just realized that the Windows partition of my...</td>\n",
       "      <td>realiz window partit mac like year behind nvid...</td>\n",
       "    </tr>\n",
       "    <tr>\n",
       "      <th>74677</th>\n",
       "      <td>9200</td>\n",
       "      <td>Nvidia</td>\n",
       "      <td>Positive</td>\n",
       "      <td>Just realized that my Mac window partition is ...</td>\n",
       "      <td>realiz mac window partit year behind nvidia dr...</td>\n",
       "    </tr>\n",
       "    <tr>\n",
       "      <th>74678</th>\n",
       "      <td>9200</td>\n",
       "      <td>Nvidia</td>\n",
       "      <td>Positive</td>\n",
       "      <td>Just realized the windows partition of my Mac ...</td>\n",
       "      <td>realiz window partit mac year behind nvidia dr...</td>\n",
       "    </tr>\n",
       "    <tr>\n",
       "      <th>74679</th>\n",
       "      <td>9200</td>\n",
       "      <td>Nvidia</td>\n",
       "      <td>Positive</td>\n",
       "      <td>Just realized between the windows partition of...</td>\n",
       "      <td>realiz window partit mac like year behind nvid...</td>\n",
       "    </tr>\n",
       "    <tr>\n",
       "      <th>74680</th>\n",
       "      <td>9200</td>\n",
       "      <td>Nvidia</td>\n",
       "      <td>Positive</td>\n",
       "      <td>Just like the windows partition of my Mac is l...</td>\n",
       "      <td>like window partit mac like year behind driver...</td>\n",
       "    </tr>\n",
       "  </tbody>\n",
       "</table>\n",
       "<p>74681 rows × 5 columns</p>\n",
       "</div>"
      ],
      "text/plain": [
       "         id       entity sentiment  \\\n",
       "0      2401  Borderlands  Positive   \n",
       "1      2401  Borderlands  Positive   \n",
       "2      2401  Borderlands  Positive   \n",
       "3      2401  Borderlands  Positive   \n",
       "4      2401  Borderlands  Positive   \n",
       "...     ...          ...       ...   \n",
       "74676  9200       Nvidia  Positive   \n",
       "74677  9200       Nvidia  Positive   \n",
       "74678  9200       Nvidia  Positive   \n",
       "74679  9200       Nvidia  Positive   \n",
       "74680  9200       Nvidia  Positive   \n",
       "\n",
       "                                           tweet_content  \\\n",
       "0      I am coming to the borders and I will kill you...   \n",
       "1      im getting on borderlands and i will kill you ...   \n",
       "2      im coming on borderlands and i will murder you...   \n",
       "3      im getting on borderlands 2 and i will murder ...   \n",
       "4      im getting into borderlands and i can murder y...   \n",
       "...                                                  ...   \n",
       "74676  Just realized that the Windows partition of my...   \n",
       "74677  Just realized that my Mac window partition is ...   \n",
       "74678  Just realized the windows partition of my Mac ...   \n",
       "74679  Just realized between the windows partition of...   \n",
       "74680  Just like the windows partition of my Mac is l...   \n",
       "\n",
       "                                          text_processed  \n",
       "0                                       come border kill  \n",
       "1                                 im get borderland kill  \n",
       "2                              im come borderland murder  \n",
       "3                               im get borderland murder  \n",
       "4                               im get borderland murder  \n",
       "...                                                  ...  \n",
       "74676  realiz window partit mac like year behind nvid...  \n",
       "74677  realiz mac window partit year behind nvidia dr...  \n",
       "74678  realiz window partit mac year behind nvidia dr...  \n",
       "74679  realiz window partit mac like year behind nvid...  \n",
       "74680  like window partit mac like year behind driver...  \n",
       "\n",
       "[74681 rows x 5 columns]"
      ]
     },
     "execution_count": 18,
     "metadata": {},
     "output_type": "execute_result"
    }
   ],
   "source": [
    "# Applying Text Preprocessing to the Dataset\n",
    "\n",
    "df['text_processed'] = df['tweet_content'].apply(lambda x: text_preprocessing(x))\n",
    "df"
   ]
  },
  {
   "cell_type": "markdown",
   "metadata": {},
   "source": [
    "## 5.2 Target Conversion"
   ]
  },
  {
   "cell_type": "code",
   "execution_count": 19,
   "metadata": {},
   "outputs": [
    {
     "data": {
      "text/plain": [
       "array(['Positive', 'Neutral', 'Negative', 'Irrelevant'], dtype=object)"
      ]
     },
     "execution_count": 19,
     "metadata": {},
     "output_type": "execute_result"
    }
   ],
   "source": [
    "# Display Target\n",
    "df['sentiment'].unique()"
   ]
  },
  {
   "cell_type": "code",
   "execution_count": 20,
   "metadata": {},
   "outputs": [
    {
     "data": {
      "text/html": [
       "<div>\n",
       "<style scoped>\n",
       "    .dataframe tbody tr th:only-of-type {\n",
       "        vertical-align: middle;\n",
       "    }\n",
       "\n",
       "    .dataframe tbody tr th {\n",
       "        vertical-align: top;\n",
       "    }\n",
       "\n",
       "    .dataframe thead th {\n",
       "        text-align: right;\n",
       "    }\n",
       "</style>\n",
       "<table border=\"1\" class=\"dataframe\">\n",
       "  <thead>\n",
       "    <tr style=\"text-align: right;\">\n",
       "      <th></th>\n",
       "      <th>id</th>\n",
       "      <th>entity</th>\n",
       "      <th>sentiment</th>\n",
       "      <th>tweet_content</th>\n",
       "      <th>text_processed</th>\n",
       "      <th>label</th>\n",
       "    </tr>\n",
       "  </thead>\n",
       "  <tbody>\n",
       "    <tr>\n",
       "      <th>0</th>\n",
       "      <td>2401</td>\n",
       "      <td>Borderlands</td>\n",
       "      <td>Positive</td>\n",
       "      <td>I am coming to the borders and I will kill you...</td>\n",
       "      <td>come border kill</td>\n",
       "      <td>2</td>\n",
       "    </tr>\n",
       "    <tr>\n",
       "      <th>1</th>\n",
       "      <td>2401</td>\n",
       "      <td>Borderlands</td>\n",
       "      <td>Positive</td>\n",
       "      <td>im getting on borderlands and i will kill you ...</td>\n",
       "      <td>im get borderland kill</td>\n",
       "      <td>2</td>\n",
       "    </tr>\n",
       "    <tr>\n",
       "      <th>2</th>\n",
       "      <td>2401</td>\n",
       "      <td>Borderlands</td>\n",
       "      <td>Positive</td>\n",
       "      <td>im coming on borderlands and i will murder you...</td>\n",
       "      <td>im come borderland murder</td>\n",
       "      <td>2</td>\n",
       "    </tr>\n",
       "    <tr>\n",
       "      <th>3</th>\n",
       "      <td>2401</td>\n",
       "      <td>Borderlands</td>\n",
       "      <td>Positive</td>\n",
       "      <td>im getting on borderlands 2 and i will murder ...</td>\n",
       "      <td>im get borderland murder</td>\n",
       "      <td>2</td>\n",
       "    </tr>\n",
       "    <tr>\n",
       "      <th>4</th>\n",
       "      <td>2401</td>\n",
       "      <td>Borderlands</td>\n",
       "      <td>Positive</td>\n",
       "      <td>im getting into borderlands and i can murder y...</td>\n",
       "      <td>im get borderland murder</td>\n",
       "      <td>2</td>\n",
       "    </tr>\n",
       "    <tr>\n",
       "      <th>...</th>\n",
       "      <td>...</td>\n",
       "      <td>...</td>\n",
       "      <td>...</td>\n",
       "      <td>...</td>\n",
       "      <td>...</td>\n",
       "      <td>...</td>\n",
       "    </tr>\n",
       "    <tr>\n",
       "      <th>74676</th>\n",
       "      <td>9200</td>\n",
       "      <td>Nvidia</td>\n",
       "      <td>Positive</td>\n",
       "      <td>Just realized that the Windows partition of my...</td>\n",
       "      <td>realiz window partit mac like year behind nvid...</td>\n",
       "      <td>2</td>\n",
       "    </tr>\n",
       "    <tr>\n",
       "      <th>74677</th>\n",
       "      <td>9200</td>\n",
       "      <td>Nvidia</td>\n",
       "      <td>Positive</td>\n",
       "      <td>Just realized that my Mac window partition is ...</td>\n",
       "      <td>realiz mac window partit year behind nvidia dr...</td>\n",
       "      <td>2</td>\n",
       "    </tr>\n",
       "    <tr>\n",
       "      <th>74678</th>\n",
       "      <td>9200</td>\n",
       "      <td>Nvidia</td>\n",
       "      <td>Positive</td>\n",
       "      <td>Just realized the windows partition of my Mac ...</td>\n",
       "      <td>realiz window partit mac year behind nvidia dr...</td>\n",
       "      <td>2</td>\n",
       "    </tr>\n",
       "    <tr>\n",
       "      <th>74679</th>\n",
       "      <td>9200</td>\n",
       "      <td>Nvidia</td>\n",
       "      <td>Positive</td>\n",
       "      <td>Just realized between the windows partition of...</td>\n",
       "      <td>realiz window partit mac like year behind nvid...</td>\n",
       "      <td>2</td>\n",
       "    </tr>\n",
       "    <tr>\n",
       "      <th>74680</th>\n",
       "      <td>9200</td>\n",
       "      <td>Nvidia</td>\n",
       "      <td>Positive</td>\n",
       "      <td>Just like the windows partition of my Mac is l...</td>\n",
       "      <td>like window partit mac like year behind driver...</td>\n",
       "      <td>2</td>\n",
       "    </tr>\n",
       "  </tbody>\n",
       "</table>\n",
       "<p>74681 rows × 6 columns</p>\n",
       "</div>"
      ],
      "text/plain": [
       "         id       entity sentiment  \\\n",
       "0      2401  Borderlands  Positive   \n",
       "1      2401  Borderlands  Positive   \n",
       "2      2401  Borderlands  Positive   \n",
       "3      2401  Borderlands  Positive   \n",
       "4      2401  Borderlands  Positive   \n",
       "...     ...          ...       ...   \n",
       "74676  9200       Nvidia  Positive   \n",
       "74677  9200       Nvidia  Positive   \n",
       "74678  9200       Nvidia  Positive   \n",
       "74679  9200       Nvidia  Positive   \n",
       "74680  9200       Nvidia  Positive   \n",
       "\n",
       "                                           tweet_content  \\\n",
       "0      I am coming to the borders and I will kill you...   \n",
       "1      im getting on borderlands and i will kill you ...   \n",
       "2      im coming on borderlands and i will murder you...   \n",
       "3      im getting on borderlands 2 and i will murder ...   \n",
       "4      im getting into borderlands and i can murder y...   \n",
       "...                                                  ...   \n",
       "74676  Just realized that the Windows partition of my...   \n",
       "74677  Just realized that my Mac window partition is ...   \n",
       "74678  Just realized the windows partition of my Mac ...   \n",
       "74679  Just realized between the windows partition of...   \n",
       "74680  Just like the windows partition of my Mac is l...   \n",
       "\n",
       "                                          text_processed  label  \n",
       "0                                       come border kill      2  \n",
       "1                                 im get borderland kill      2  \n",
       "2                              im come borderland murder      2  \n",
       "3                               im get borderland murder      2  \n",
       "4                               im get borderland murder      2  \n",
       "...                                                  ...    ...  \n",
       "74676  realiz window partit mac like year behind nvid...      2  \n",
       "74677  realiz mac window partit year behind nvidia dr...      2  \n",
       "74678  realiz window partit mac year behind nvidia dr...      2  \n",
       "74679  realiz window partit mac like year behind nvid...      2  \n",
       "74680  like window partit mac like year behind driver...      2  \n",
       "\n",
       "[74681 rows x 6 columns]"
      ]
     },
     "execution_count": 20,
     "metadata": {},
     "output_type": "execute_result"
    }
   ],
   "source": [
    "# Change Target into Number\n",
    "df['label'] = df['sentiment'].replace({'Negative' : 0, 'Neutral' : 1, 'Positive' : 2, 'Irrelevant' : 3})\n",
    "df"
   ]
  },
  {
   "cell_type": "code",
   "execution_count": 21,
   "metadata": {},
   "outputs": [
    {
     "data": {
      "text/html": [
       "<div>\n",
       "<style scoped>\n",
       "    .dataframe tbody tr th:only-of-type {\n",
       "        vertical-align: middle;\n",
       "    }\n",
       "\n",
       "    .dataframe tbody tr th {\n",
       "        vertical-align: top;\n",
       "    }\n",
       "\n",
       "    .dataframe thead th {\n",
       "        text-align: right;\n",
       "    }\n",
       "</style>\n",
       "<table border=\"1\" class=\"dataframe\">\n",
       "  <thead>\n",
       "    <tr style=\"text-align: right;\">\n",
       "      <th></th>\n",
       "      <th>id</th>\n",
       "      <th>entity</th>\n",
       "      <th>sentiment</th>\n",
       "      <th>tweet_content</th>\n",
       "      <th>text_processed</th>\n",
       "      <th>label</th>\n",
       "    </tr>\n",
       "  </thead>\n",
       "  <tbody>\n",
       "    <tr>\n",
       "      <th>23</th>\n",
       "      <td>2405</td>\n",
       "      <td>Borderlands</td>\n",
       "      <td>Negative</td>\n",
       "      <td>the biggest dissappoinment in my life came out...</td>\n",
       "      <td>biggest dissappoin life came year ago fuck bor...</td>\n",
       "      <td>0</td>\n",
       "    </tr>\n",
       "    <tr>\n",
       "      <th>24</th>\n",
       "      <td>2405</td>\n",
       "      <td>Borderlands</td>\n",
       "      <td>Negative</td>\n",
       "      <td>The biggest disappointment of my life came a y...</td>\n",
       "      <td>biggest disappoint life came year ago</td>\n",
       "      <td>0</td>\n",
       "    </tr>\n",
       "    <tr>\n",
       "      <th>25</th>\n",
       "      <td>2405</td>\n",
       "      <td>Borderlands</td>\n",
       "      <td>Negative</td>\n",
       "      <td>The biggest disappointment of my life came a y...</td>\n",
       "      <td>biggest disappoint life came year ago</td>\n",
       "      <td>0</td>\n",
       "    </tr>\n",
       "    <tr>\n",
       "      <th>26</th>\n",
       "      <td>2405</td>\n",
       "      <td>Borderlands</td>\n",
       "      <td>Negative</td>\n",
       "      <td>the biggest dissappoinment in my life coming o...</td>\n",
       "      <td>biggest dissappoin life come year ago fuck bor...</td>\n",
       "      <td>0</td>\n",
       "    </tr>\n",
       "    <tr>\n",
       "      <th>27</th>\n",
       "      <td>2405</td>\n",
       "      <td>Borderlands</td>\n",
       "      <td>Negative</td>\n",
       "      <td>For the biggest male dissappoinment in my life...</td>\n",
       "      <td>biggest male dissappoin life came hang year ti...</td>\n",
       "      <td>0</td>\n",
       "    </tr>\n",
       "  </tbody>\n",
       "</table>\n",
       "</div>"
      ],
      "text/plain": [
       "      id       entity sentiment  \\\n",
       "23  2405  Borderlands  Negative   \n",
       "24  2405  Borderlands  Negative   \n",
       "25  2405  Borderlands  Negative   \n",
       "26  2405  Borderlands  Negative   \n",
       "27  2405  Borderlands  Negative   \n",
       "\n",
       "                                        tweet_content  \\\n",
       "23  the biggest dissappoinment in my life came out...   \n",
       "24  The biggest disappointment of my life came a y...   \n",
       "25  The biggest disappointment of my life came a y...   \n",
       "26  the biggest dissappoinment in my life coming o...   \n",
       "27  For the biggest male dissappoinment in my life...   \n",
       "\n",
       "                                       text_processed  label  \n",
       "23  biggest dissappoin life came year ago fuck bor...      0  \n",
       "24              biggest disappoint life came year ago      0  \n",
       "25              biggest disappoint life came year ago      0  \n",
       "26  biggest dissappoin life come year ago fuck bor...      0  \n",
       "27  biggest male dissappoin life came hang year ti...      0  "
      ]
     },
     "execution_count": 21,
     "metadata": {},
     "output_type": "execute_result"
    }
   ],
   "source": [
    "df[df['sentiment'] == 'Negative'].head()"
   ]
  },
  {
   "cell_type": "code",
   "execution_count": 22,
   "metadata": {},
   "outputs": [
    {
     "data": {
      "text/html": [
       "<div>\n",
       "<style scoped>\n",
       "    .dataframe tbody tr th:only-of-type {\n",
       "        vertical-align: middle;\n",
       "    }\n",
       "\n",
       "    .dataframe tbody tr th {\n",
       "        vertical-align: top;\n",
       "    }\n",
       "\n",
       "    .dataframe thead th {\n",
       "        text-align: right;\n",
       "    }\n",
       "</style>\n",
       "<table border=\"1\" class=\"dataframe\">\n",
       "  <thead>\n",
       "    <tr style=\"text-align: right;\">\n",
       "      <th></th>\n",
       "      <th>id</th>\n",
       "      <th>entity</th>\n",
       "      <th>sentiment</th>\n",
       "      <th>tweet_content</th>\n",
       "      <th>text_processed</th>\n",
       "      <th>label</th>\n",
       "    </tr>\n",
       "  </thead>\n",
       "  <tbody>\n",
       "    <tr>\n",
       "      <th>11</th>\n",
       "      <td>2403</td>\n",
       "      <td>Borderlands</td>\n",
       "      <td>Neutral</td>\n",
       "      <td>Rock-Hard La Varlope, RARE &amp; POWERFUL, HANDSOM...</td>\n",
       "      <td>rock hard la varlop rare power handsom jackpot...</td>\n",
       "      <td>1</td>\n",
       "    </tr>\n",
       "    <tr>\n",
       "      <th>12</th>\n",
       "      <td>2403</td>\n",
       "      <td>Borderlands</td>\n",
       "      <td>Neutral</td>\n",
       "      <td>Rock-Hard La Varlope, RARE &amp; POWERFUL, HANDSOM...</td>\n",
       "      <td>rock hard la varlop rare power handsom jackpot...</td>\n",
       "      <td>1</td>\n",
       "    </tr>\n",
       "    <tr>\n",
       "      <th>13</th>\n",
       "      <td>2403</td>\n",
       "      <td>Borderlands</td>\n",
       "      <td>Neutral</td>\n",
       "      <td>Rock-Hard La Varlope, RARE &amp; POWERFUL, HANDSOM...</td>\n",
       "      <td>rock hard la varlop rare power handsom jackpot...</td>\n",
       "      <td>1</td>\n",
       "    </tr>\n",
       "    <tr>\n",
       "      <th>14</th>\n",
       "      <td>2403</td>\n",
       "      <td>Borderlands</td>\n",
       "      <td>Neutral</td>\n",
       "      <td>Rock-Hard La Vita, RARE BUT POWERFUL, HANDSOME...</td>\n",
       "      <td>rock hard la vita rare power handsom jackpot b...</td>\n",
       "      <td>1</td>\n",
       "    </tr>\n",
       "    <tr>\n",
       "      <th>15</th>\n",
       "      <td>2403</td>\n",
       "      <td>Borderlands</td>\n",
       "      <td>Neutral</td>\n",
       "      <td>Live Rock - Hard music La la Varlope, RARE &amp; t...</td>\n",
       "      <td>live rock hard music la la varlop rare power l...</td>\n",
       "      <td>1</td>\n",
       "    </tr>\n",
       "  </tbody>\n",
       "</table>\n",
       "</div>"
      ],
      "text/plain": [
       "      id       entity sentiment  \\\n",
       "11  2403  Borderlands   Neutral   \n",
       "12  2403  Borderlands   Neutral   \n",
       "13  2403  Borderlands   Neutral   \n",
       "14  2403  Borderlands   Neutral   \n",
       "15  2403  Borderlands   Neutral   \n",
       "\n",
       "                                        tweet_content  \\\n",
       "11  Rock-Hard La Varlope, RARE & POWERFUL, HANDSOM...   \n",
       "12  Rock-Hard La Varlope, RARE & POWERFUL, HANDSOM...   \n",
       "13  Rock-Hard La Varlope, RARE & POWERFUL, HANDSOM...   \n",
       "14  Rock-Hard La Vita, RARE BUT POWERFUL, HANDSOME...   \n",
       "15  Live Rock - Hard music La la Varlope, RARE & t...   \n",
       "\n",
       "                                       text_processed  label  \n",
       "11  rock hard la varlop rare power handsom jackpot...      1  \n",
       "12  rock hard la varlop rare power handsom jackpot...      1  \n",
       "13  rock hard la varlop rare power handsom jackpot...      1  \n",
       "14  rock hard la vita rare power handsom jackpot b...      1  \n",
       "15  live rock hard music la la varlop rare power l...      1  "
      ]
     },
     "execution_count": 22,
     "metadata": {},
     "output_type": "execute_result"
    }
   ],
   "source": [
    "df[df['sentiment'] == 'Neutral'].head()"
   ]
  },
  {
   "cell_type": "code",
   "execution_count": 23,
   "metadata": {},
   "outputs": [
    {
     "data": {
      "text/html": [
       "<div>\n",
       "<style scoped>\n",
       "    .dataframe tbody tr th:only-of-type {\n",
       "        vertical-align: middle;\n",
       "    }\n",
       "\n",
       "    .dataframe tbody tr th {\n",
       "        vertical-align: top;\n",
       "    }\n",
       "\n",
       "    .dataframe thead th {\n",
       "        text-align: right;\n",
       "    }\n",
       "</style>\n",
       "<table border=\"1\" class=\"dataframe\">\n",
       "  <thead>\n",
       "    <tr style=\"text-align: right;\">\n",
       "      <th></th>\n",
       "      <th>id</th>\n",
       "      <th>entity</th>\n",
       "      <th>sentiment</th>\n",
       "      <th>tweet_content</th>\n",
       "      <th>text_processed</th>\n",
       "      <th>label</th>\n",
       "    </tr>\n",
       "  </thead>\n",
       "  <tbody>\n",
       "    <tr>\n",
       "      <th>101</th>\n",
       "      <td>2418</td>\n",
       "      <td>Borderlands</td>\n",
       "      <td>Irrelevant</td>\n",
       "      <td>Appreciate the (sonic) concepts / praxis Valen...</td>\n",
       "      <td>appreci sonic concept praxi valenzuela landa p...</td>\n",
       "      <td>3</td>\n",
       "    </tr>\n",
       "    <tr>\n",
       "      <th>102</th>\n",
       "      <td>2418</td>\n",
       "      <td>Borderlands</td>\n",
       "      <td>Irrelevant</td>\n",
       "      <td>Appreciate the (sound) concepts / practices th...</td>\n",
       "      <td>appreci sound concept practic valenzuela landa...</td>\n",
       "      <td>3</td>\n",
       "    </tr>\n",
       "    <tr>\n",
       "      <th>103</th>\n",
       "      <td>2418</td>\n",
       "      <td>Borderlands</td>\n",
       "      <td>Irrelevant</td>\n",
       "      <td>Evaluate the (sound) concepts / concepts of Va...</td>\n",
       "      <td>evalu sound concept concept valensela landa po...</td>\n",
       "      <td>3</td>\n",
       "    </tr>\n",
       "    <tr>\n",
       "      <th>104</th>\n",
       "      <td>2418</td>\n",
       "      <td>Borderlands</td>\n",
       "      <td>Irrelevant</td>\n",
       "      <td>Appreciate the (sonic) concepts / praxis Valen...</td>\n",
       "      <td>appreci sonic concept praxi valenzuela moreno ...</td>\n",
       "      <td>3</td>\n",
       "    </tr>\n",
       "    <tr>\n",
       "      <th>105</th>\n",
       "      <td>2418</td>\n",
       "      <td>Borderlands</td>\n",
       "      <td>Irrelevant</td>\n",
       "      <td>Appreciate by the ( sonic ) electronic concept...</td>\n",
       "      <td>appreci sonic electron concept praxi valenzuel...</td>\n",
       "      <td>3</td>\n",
       "    </tr>\n",
       "  </tbody>\n",
       "</table>\n",
       "</div>"
      ],
      "text/plain": [
       "       id       entity   sentiment  \\\n",
       "101  2418  Borderlands  Irrelevant   \n",
       "102  2418  Borderlands  Irrelevant   \n",
       "103  2418  Borderlands  Irrelevant   \n",
       "104  2418  Borderlands  Irrelevant   \n",
       "105  2418  Borderlands  Irrelevant   \n",
       "\n",
       "                                         tweet_content  \\\n",
       "101  Appreciate the (sonic) concepts / praxis Valen...   \n",
       "102  Appreciate the (sound) concepts / practices th...   \n",
       "103  Evaluate the (sound) concepts / concepts of Va...   \n",
       "104  Appreciate the (sonic) concepts / praxis Valen...   \n",
       "105  Appreciate by the ( sonic ) electronic concept...   \n",
       "\n",
       "                                        text_processed  label  \n",
       "101  appreci sonic concept praxi valenzuela landa p...      3  \n",
       "102  appreci sound concept practic valenzuela landa...      3  \n",
       "103  evalu sound concept concept valensela landa po...      3  \n",
       "104  appreci sonic concept praxi valenzuela moreno ...      3  \n",
       "105  appreci sonic electron concept praxi valenzuel...      3  "
      ]
     },
     "execution_count": 23,
     "metadata": {},
     "output_type": "execute_result"
    }
   ],
   "source": [
    "df[df['sentiment'] == 'Irrelevant'].head()"
   ]
  },
  {
   "cell_type": "code",
   "execution_count": 24,
   "metadata": {},
   "outputs": [
    {
     "data": {
      "text/plain": [
       "label\n",
       "0    22542\n",
       "2    20831\n",
       "1    18318\n",
       "3    12990\n",
       "Name: count, dtype: int64"
      ]
     },
     "execution_count": 24,
     "metadata": {},
     "output_type": "execute_result"
    }
   ],
   "source": [
    "# Target Distribution\n",
    "df['label'].value_counts()"
   ]
  },
  {
   "cell_type": "code",
   "execution_count": 25,
   "metadata": {},
   "outputs": [
    {
     "data": {
      "text/html": [
       "<div>\n",
       "<style scoped>\n",
       "    .dataframe tbody tr th:only-of-type {\n",
       "        vertical-align: middle;\n",
       "    }\n",
       "\n",
       "    .dataframe tbody tr th {\n",
       "        vertical-align: top;\n",
       "    }\n",
       "\n",
       "    .dataframe thead th {\n",
       "        text-align: right;\n",
       "    }\n",
       "</style>\n",
       "<table border=\"1\" class=\"dataframe\">\n",
       "  <thead>\n",
       "    <tr style=\"text-align: right;\">\n",
       "      <th></th>\n",
       "      <th>sentiment</th>\n",
       "      <th>text_processed</th>\n",
       "      <th>label</th>\n",
       "    </tr>\n",
       "  </thead>\n",
       "  <tbody>\n",
       "    <tr>\n",
       "      <th>0</th>\n",
       "      <td>Positive</td>\n",
       "      <td>come border kill</td>\n",
       "      <td>2</td>\n",
       "    </tr>\n",
       "    <tr>\n",
       "      <th>1</th>\n",
       "      <td>Positive</td>\n",
       "      <td>im get borderland kill</td>\n",
       "      <td>2</td>\n",
       "    </tr>\n",
       "    <tr>\n",
       "      <th>2</th>\n",
       "      <td>Positive</td>\n",
       "      <td>im come borderland murder</td>\n",
       "      <td>2</td>\n",
       "    </tr>\n",
       "    <tr>\n",
       "      <th>3</th>\n",
       "      <td>Positive</td>\n",
       "      <td>im get borderland murder</td>\n",
       "      <td>2</td>\n",
       "    </tr>\n",
       "    <tr>\n",
       "      <th>4</th>\n",
       "      <td>Positive</td>\n",
       "      <td>im get borderland murder</td>\n",
       "      <td>2</td>\n",
       "    </tr>\n",
       "    <tr>\n",
       "      <th>...</th>\n",
       "      <td>...</td>\n",
       "      <td>...</td>\n",
       "      <td>...</td>\n",
       "    </tr>\n",
       "    <tr>\n",
       "      <th>74676</th>\n",
       "      <td>Positive</td>\n",
       "      <td>realiz window partit mac like year behind nvid...</td>\n",
       "      <td>2</td>\n",
       "    </tr>\n",
       "    <tr>\n",
       "      <th>74677</th>\n",
       "      <td>Positive</td>\n",
       "      <td>realiz mac window partit year behind nvidia dr...</td>\n",
       "      <td>2</td>\n",
       "    </tr>\n",
       "    <tr>\n",
       "      <th>74678</th>\n",
       "      <td>Positive</td>\n",
       "      <td>realiz window partit mac year behind nvidia dr...</td>\n",
       "      <td>2</td>\n",
       "    </tr>\n",
       "    <tr>\n",
       "      <th>74679</th>\n",
       "      <td>Positive</td>\n",
       "      <td>realiz window partit mac like year behind nvid...</td>\n",
       "      <td>2</td>\n",
       "    </tr>\n",
       "    <tr>\n",
       "      <th>74680</th>\n",
       "      <td>Positive</td>\n",
       "      <td>like window partit mac like year behind driver...</td>\n",
       "      <td>2</td>\n",
       "    </tr>\n",
       "  </tbody>\n",
       "</table>\n",
       "<p>74681 rows × 3 columns</p>\n",
       "</div>"
      ],
      "text/plain": [
       "      sentiment                                     text_processed  label\n",
       "0      Positive                                   come border kill      2\n",
       "1      Positive                             im get borderland kill      2\n",
       "2      Positive                          im come borderland murder      2\n",
       "3      Positive                           im get borderland murder      2\n",
       "4      Positive                           im get borderland murder      2\n",
       "...         ...                                                ...    ...\n",
       "74676  Positive  realiz window partit mac like year behind nvid...      2\n",
       "74677  Positive  realiz mac window partit year behind nvidia dr...      2\n",
       "74678  Positive  realiz window partit mac year behind nvidia dr...      2\n",
       "74679  Positive  realiz window partit mac like year behind nvid...      2\n",
       "74680  Positive  like window partit mac like year behind driver...      2\n",
       "\n",
       "[74681 rows x 3 columns]"
      ]
     },
     "execution_count": 25,
     "metadata": {},
     "output_type": "execute_result"
    }
   ],
   "source": [
    "df_train = df[['sentiment', 'text_processed', 'label']]\n",
    "df_train"
   ]
  },
  {
   "cell_type": "markdown",
   "metadata": {},
   "source": [
    "## 5.3 Split Feature(X), Target(y) and Train Set, Test Set"
   ]
  },
  {
   "cell_type": "code",
   "execution_count": 26,
   "metadata": {},
   "outputs": [
    {
     "name": "stdout",
     "output_type": "stream",
     "text": [
      "Train Size :  (57130,)\n",
      "Val Size   :  (6348,)\n",
      "Test Size  :  (11203,)\n"
     ]
    }
   ],
   "source": [
    "# Data Splitting\n",
    "\n",
    "X_train_val, X_test, y_train_val, y_test = train_test_split(df_train.text_processed,\n",
    "                                                    df_train.label,\n",
    "                                                    test_size=0.15,\n",
    "                                                    random_state=20,\n",
    "                                                    stratify=df_train.label)\n",
    "\n",
    "X_train, X_val, y_train, y_val = train_test_split(X_train_val,\n",
    "                                                  y_train_val,\n",
    "                                                  test_size=0.10,\n",
    "                                                  random_state=20,\n",
    "                                                  stratify=y_train_val)\n",
    "\n",
    "print('Train Size : ', X_train.shape)\n",
    "print('Val Size   : ', X_val.shape)\n",
    "print('Test Size  : ', X_test.shape)"
   ]
  },
  {
   "cell_type": "code",
   "execution_count": 27,
   "metadata": {},
   "outputs": [
    {
     "data": {
      "text/plain": [
       "56120    honestli need find stronger team pc bad hit al...\n",
       "14769                                       noob indog way\n",
       "31079    error transfer code mordekais dark star skin c...\n",
       "8773                                      well overtim lit\n",
       "63377                            talk got ta fix slow menu\n",
       "Name: text_processed, dtype: object"
      ]
     },
     "execution_count": 27,
     "metadata": {},
     "output_type": "execute_result"
    }
   ],
   "source": [
    "X_train.head()"
   ]
  },
  {
   "cell_type": "code",
   "execution_count": 28,
   "metadata": {},
   "outputs": [
    {
     "data": {
      "text/plain": [
       "56120    1\n",
       "14769    3\n",
       "31079    0\n",
       "8773     2\n",
       "63377    0\n",
       "Name: label, dtype: int64"
      ]
     },
     "execution_count": 28,
     "metadata": {},
     "output_type": "execute_result"
    }
   ],
   "source": [
    "y_train.head()"
   ]
  },
  {
   "cell_type": "markdown",
   "metadata": {},
   "source": [
    "## 5.4 Feature Encoding"
   ]
  },
  {
   "cell_type": "code",
   "execution_count": 29,
   "metadata": {},
   "outputs": [
    {
     "data": {
      "text/plain": [
       "array([[0., 1., 0., 0.],\n",
       "       [0., 0., 0., 1.],\n",
       "       [1., 0., 0., 0.],\n",
       "       ...,\n",
       "       [1., 0., 0., 0.],\n",
       "       [1., 0., 0., 0.],\n",
       "       [1., 0., 0., 0.]], dtype=float32)"
      ]
     },
     "execution_count": 29,
     "metadata": {},
     "output_type": "execute_result"
    }
   ],
   "source": [
    "# Change Target to One Hot Encoding\n",
    "\n",
    "from tensorflow.keras.utils import to_categorical\n",
    "\n",
    "y_train_ohe = to_categorical(y_train)\n",
    "y_val_ohe = to_categorical(y_val)\n",
    "y_test_ohe = to_categorical(y_test)\n",
    "y_train_ohe"
   ]
  },
  {
   "cell_type": "markdown",
   "metadata": {},
   "source": [
    "# 6 - Model Building"
   ]
  },
  {
   "cell_type": "markdown",
   "metadata": {},
   "source": [
    "## 6.1 Text Vectorization"
   ]
  },
  {
   "cell_type": "code",
   "execution_count": 30,
   "metadata": {},
   "outputs": [
    {
     "data": {
      "text/plain": [
       "<57130x21139 sparse matrix of type '<class 'numpy.int64'>'\n",
       "\twith 574899 stored elements in Compressed Sparse Row format>"
      ]
     },
     "execution_count": 30,
     "metadata": {},
     "output_type": "execute_result"
    }
   ],
   "source": [
    "# Get Vocabularies\n",
    "\n",
    "Vectorize = CountVectorizer()\n",
    "X_train_vec = Vectorize.fit_transform(X_train)\n",
    "X_test_vec = Vectorize.transform(X_test)\n",
    "\n",
    "X_train_vec"
   ]
  },
  {
   "cell_type": "code",
   "execution_count": 31,
   "metadata": {},
   "outputs": [
    {
     "name": "stdout",
     "output_type": "stream",
     "text": [
      "Total Vocab :  21139\n",
      "Maximum Sentence Length :  163 tokens\n"
     ]
    }
   ],
   "source": [
    "# Finding the Number of Vocabs and Max Token Length in One Document\n",
    "\n",
    "total_vocab = len(Vectorize.vocabulary_.keys())\n",
    "max_sen_len = max([len(i.split(\" \")) for i in X_train])\n",
    "\n",
    "print('Total Vocab : ', total_vocab)\n",
    "print('Maximum Sentence Length : ', max_sen_len, 'tokens')"
   ]
  },
  {
   "cell_type": "code",
   "execution_count": 32,
   "metadata": {},
   "outputs": [
    {
     "name": "stdout",
     "output_type": "stream",
     "text": [
      "WARNING:tensorflow:From c:\\ProgramData\\miniconda3\\Lib\\site-packages\\keras\\src\\backend.py:873: The name tf.get_default_graph is deprecated. Please use tf.compat.v1.get_default_graph instead.\n",
      "\n",
      "WARNING:tensorflow:From c:\\ProgramData\\miniconda3\\Lib\\site-packages\\keras\\src\\utils\\tf_utils.py:492: The name tf.ragged.RaggedTensorValue is deprecated. Please use tf.compat.v1.ragged.RaggedTensorValue instead.\n",
      "\n"
     ]
    }
   ],
   "source": [
    "# Text Vectorization\n",
    "\n",
    "from tensorflow.keras.layers import TextVectorization\n",
    "\n",
    "text_vectorization = TextVectorization(max_tokens=total_vocab,\n",
    "                                       standardize=\"lower_and_strip_punctuation\",\n",
    "                                       split=\"whitespace\",\n",
    "                                       ngrams=None,\n",
    "                                       output_mode=\"int\",\n",
    "                                       output_sequence_length=max_sen_len,\n",
    "                                       input_shape=(1,)) # Only use in Sequential API\n",
    "\n",
    "text_vectorization.adapt(X_train)"
   ]
  },
  {
   "cell_type": "code",
   "execution_count": 33,
   "metadata": {},
   "outputs": [
    {
     "name": "stdout",
     "output_type": "stream",
     "text": [
      "Document example\n",
      "come border kill\n",
      "\n",
      "Result of Text Vectorization\n",
      "tf.Tensor(\n",
      "[[  61 1617  121    0    0    0    0    0    0    0    0    0    0    0\n",
      "     0    0    0    0    0    0    0    0    0    0    0    0    0    0\n",
      "     0    0    0    0    0    0    0    0    0    0    0    0    0    0\n",
      "     0    0    0    0    0    0    0    0    0    0    0    0    0    0\n",
      "     0    0    0    0    0    0    0    0    0    0    0    0    0    0\n",
      "     0    0    0    0    0    0    0    0    0    0    0    0    0    0\n",
      "     0    0    0    0    0    0    0    0    0    0    0    0    0    0\n",
      "     0    0    0    0    0    0    0    0    0    0    0    0    0    0\n",
      "     0    0    0    0    0    0    0    0    0    0    0    0    0    0\n",
      "     0    0    0    0    0    0    0    0    0    0    0    0    0    0\n",
      "     0    0    0    0    0    0    0    0    0    0    0    0    0    0\n",
      "     0    0    0    0    0    0    0    0    0]], shape=(1, 163), dtype=int64)\n",
      "Vector size :  (1, 163)\n"
     ]
    }
   ],
   "source": [
    "# Example Result\n",
    "\n",
    "## Document example\n",
    "print('Document example')\n",
    "print(df_train.text_processed[0])\n",
    "print('')\n",
    "\n",
    "## Result of Text Vectorization\n",
    "print('Result of Text Vectorization')\n",
    "print(text_vectorization([df_train.text_processed[0]]))\n",
    "print('Vector size : ', text_vectorization([df_train.text_processed[0]]).shape)"
   ]
  },
  {
   "cell_type": "code",
   "execution_count": 34,
   "metadata": {},
   "outputs": [
    {
     "data": {
      "text/plain": [
       "['',\n",
       " '[UNK]',\n",
       " 'game',\n",
       " 'com',\n",
       " 's',\n",
       " 'play',\n",
       " 'nt',\n",
       " 'get',\n",
       " 'like',\n",
       " 'pic',\n",
       " 'fuck',\n",
       " 'twitter',\n",
       " 'go',\n",
       " 'love',\n",
       " 'one',\n",
       " 'good',\n",
       " 'time',\n",
       " 'new',\n",
       " 'realli',\n",
       " 'see']"
      ]
     },
     "execution_count": 34,
     "metadata": {},
     "output_type": "execute_result"
    }
   ],
   "source": [
    "# View the Top 20 Tokens (Sorted by the Highest Frequency of Appearance)\n",
    "\n",
    "text_vectorization.get_vocabulary()[:20]"
   ]
  },
  {
   "cell_type": "markdown",
   "metadata": {},
   "source": [
    "## 6.2 Word Embedding"
   ]
  },
  {
   "cell_type": "code",
   "execution_count": 35,
   "metadata": {},
   "outputs": [],
   "source": [
    "# Embedding\n",
    "\n",
    "from tensorflow.keras.layers import Embedding\n",
    "embedding = Embedding(input_dim=total_vocab,\n",
    "                      output_dim=128,\n",
    "                      embeddings_initializer=\"uniform\",\n",
    "                      input_length=max_sen_len)"
   ]
  },
  {
   "cell_type": "code",
   "execution_count": 36,
   "metadata": {},
   "outputs": [
    {
     "name": "stdout",
     "output_type": "stream",
     "text": [
      "Document example\n",
      "come border kill\n",
      "\n",
      "Result of  Text Vectorization\n",
      "tf.Tensor(\n",
      "[[  61 1617  121    0    0    0    0    0    0    0    0    0    0    0\n",
      "     0    0    0    0    0    0    0    0    0    0    0    0    0    0\n",
      "     0    0    0    0    0    0    0    0    0    0    0    0    0    0\n",
      "     0    0    0    0    0    0    0    0    0    0    0    0    0    0\n",
      "     0    0    0    0    0    0    0    0    0    0    0    0    0    0\n",
      "     0    0    0    0    0    0    0    0    0    0    0    0    0    0\n",
      "     0    0    0    0    0    0    0    0    0    0    0    0    0    0\n",
      "     0    0    0    0    0    0    0    0    0    0    0    0    0    0\n",
      "     0    0    0    0    0    0    0    0    0    0    0    0    0    0\n",
      "     0    0    0    0    0    0    0    0    0    0    0    0    0    0\n",
      "     0    0    0    0    0    0    0    0    0    0    0    0    0    0\n",
      "     0    0    0    0    0    0    0    0    0]], shape=(1, 163), dtype=int64)\n",
      "Vector size :  (1, 163)\n",
      "\n",
      "Result of  Embedding\n",
      "tf.Tensor(\n",
      "[[[ 0.04969179  0.00516601  0.00696433 ...  0.03862847 -0.04765585\n",
      "   -0.00859846]\n",
      "  [ 0.02282489 -0.04958018  0.04860865 ...  0.00776434  0.026161\n",
      "   -0.04712856]\n",
      "  [-0.00644187 -0.02168424  0.00418175 ...  0.00748155 -0.01464527\n",
      "    0.02374592]\n",
      "  ...\n",
      "  [-0.00953503 -0.02131677 -0.02753075 ...  0.01724739  0.01213336\n",
      "    0.04257825]\n",
      "  [-0.00953503 -0.02131677 -0.02753075 ...  0.01724739  0.01213336\n",
      "    0.04257825]\n",
      "  [-0.00953503 -0.02131677 -0.02753075 ...  0.01724739  0.01213336\n",
      "    0.04257825]]], shape=(1, 163, 128), dtype=float32)\n",
      "Vector size :  (1, 163, 128)\n"
     ]
    }
   ],
   "source": [
    "# Example Result\n",
    "\n",
    "## Document example\n",
    "print('Document example')\n",
    "print(df_train.text_processed[0])\n",
    "print('')\n",
    "\n",
    "## Result of Text Vectorization\n",
    "print('Result of  Text Vectorization')\n",
    "print(text_vectorization([df_train.text_processed[0]]))\n",
    "print('Vector size : ', text_vectorization([df_train.text_processed[0]]).shape)\n",
    "print('')\n",
    "\n",
    "## Result of  Embedding\n",
    "print('Result of  Embedding')\n",
    "print(embedding(text_vectorization([df_train.text_processed[0]])))\n",
    "print('Vector size : ', embedding(text_vectorization([df_train.text_processed[0]])).shape)"
   ]
  },
  {
   "cell_type": "markdown",
   "metadata": {},
   "source": [
    "## 6.3 Model Training"
   ]
  },
  {
   "cell_type": "code",
   "execution_count": 39,
   "metadata": {},
   "outputs": [],
   "source": [
    "# Model Training using LSTM\n",
    "\n",
    "from tensorflow.keras.models import Sequential\n",
    "from tensorflow.keras.layers import Dense, LSTM, Bidirectional, GRU, Dropout, Reshape"
   ]
  },
  {
   "cell_type": "markdown",
   "metadata": {},
   "source": [
    "### 6.3.1 LSTM - Default Batch"
   ]
  },
  {
   "cell_type": "code",
   "execution_count": 72,
   "metadata": {},
   "outputs": [
    {
     "name": "stdout",
     "output_type": "stream",
     "text": [
      "Epoch 1/20\n",
      "1786/1786 [==============================] - 106s 56ms/step - loss: 0.8566 - accuracy: 0.6602 - val_loss: 0.5898 - val_accuracy: 0.7807\n",
      "Epoch 2/20\n",
      "1786/1786 [==============================] - 97s 54ms/step - loss: 0.4244 - accuracy: 0.8435 - val_loss: 0.4525 - val_accuracy: 0.8322\n",
      "Epoch 3/20\n",
      "1786/1786 [==============================] - 95s 53ms/step - loss: 0.3010 - accuracy: 0.8858 - val_loss: 0.4571 - val_accuracy: 0.8357\n",
      "Epoch 4/20\n",
      "1786/1786 [==============================] - 94s 52ms/step - loss: 0.2484 - accuracy: 0.9031 - val_loss: 0.4465 - val_accuracy: 0.8428\n",
      "Epoch 5/20\n",
      "1786/1786 [==============================] - 94s 53ms/step - loss: 0.2159 - accuracy: 0.9147 - val_loss: 0.4573 - val_accuracy: 0.8503\n",
      "Epoch 6/20\n",
      "1786/1786 [==============================] - 95s 53ms/step - loss: 0.1915 - accuracy: 0.9224 - val_loss: 0.4484 - val_accuracy: 0.8548\n",
      "Epoch 7/20\n",
      "1786/1786 [==============================] - 96s 54ms/step - loss: 0.1714 - accuracy: 0.9301 - val_loss: 0.4721 - val_accuracy: 0.8578\n",
      "Epoch 8/20\n",
      "1786/1786 [==============================] - 107s 60ms/step - loss: 0.1585 - accuracy: 0.9342 - val_loss: 0.4617 - val_accuracy: 0.8625\n",
      "Epoch 9/20\n",
      "1786/1786 [==============================] - 104s 58ms/step - loss: 0.1444 - accuracy: 0.9397 - val_loss: 0.4967 - val_accuracy: 0.8641\n",
      "Epoch 10/20\n",
      "1786/1786 [==============================] - 107s 60ms/step - loss: 0.1343 - accuracy: 0.9436 - val_loss: 0.5069 - val_accuracy: 0.8669\n",
      "Epoch 11/20\n",
      "1786/1786 [==============================] - 103s 58ms/step - loss: 0.1258 - accuracy: 0.9464 - val_loss: 0.5135 - val_accuracy: 0.8713\n",
      "Epoch 12/20\n",
      "1786/1786 [==============================] - 99s 55ms/step - loss: 0.1172 - accuracy: 0.9491 - val_loss: 0.5266 - val_accuracy: 0.8686\n",
      "Epoch 13/20\n",
      "1786/1786 [==============================] - 95s 53ms/step - loss: 0.1116 - accuracy: 0.9511 - val_loss: 0.5518 - val_accuracy: 0.8713\n",
      "Epoch 14/20\n",
      "1786/1786 [==============================] - 99s 55ms/step - loss: 0.1078 - accuracy: 0.9533 - val_loss: 0.5564 - val_accuracy: 0.8716\n",
      "Epoch 15/20\n",
      "1786/1786 [==============================] - 95s 53ms/step - loss: 0.1031 - accuracy: 0.9546 - val_loss: 0.5543 - val_accuracy: 0.8688\n",
      "Epoch 16/20\n",
      "1786/1786 [==============================] - 109s 61ms/step - loss: 0.0989 - accuracy: 0.9559 - val_loss: 0.5742 - val_accuracy: 0.8727\n",
      "Epoch 17/20\n",
      "1786/1786 [==============================] - 147s 82ms/step - loss: 0.0961 - accuracy: 0.9571 - val_loss: 0.5699 - val_accuracy: 0.8727\n",
      "Epoch 18/20\n",
      "1786/1786 [==============================] - 138s 77ms/step - loss: 0.0947 - accuracy: 0.9577 - val_loss: 0.5585 - val_accuracy: 0.8721\n",
      "Epoch 19/20\n",
      "1786/1786 [==============================] - 136s 76ms/step - loss: 0.0931 - accuracy: 0.9590 - val_loss: 0.5950 - val_accuracy: 0.8696\n",
      "Epoch 20/20\n",
      "1786/1786 [==============================] - 143s 80ms/step - loss: 0.0875 - accuracy: 0.9597 - val_loss: 0.6047 - val_accuracy: 0.8754\n"
     ]
    }
   ],
   "source": [
    "## Clear Session\n",
    "seed = 20\n",
    "tf.keras.backend.clear_session()\n",
    "np.random.seed(seed)\n",
    "tf.random.set_seed(seed)\n",
    "\n",
    "## Define the architecture\n",
    "model_lstm_1 = Sequential()\n",
    "model_lstm_1.add(text_vectorization)\n",
    "model_lstm_1.add(embedding)\n",
    "model_lstm_1.add(Bidirectional(LSTM(32, return_sequences=True, kernel_initializer=tf.keras.initializers.GlorotUniform(seed))))\n",
    "model_lstm_1.add(Dropout(0.1))\n",
    "model_lstm_1.add(Bidirectional(LSTM(16, kernel_initializer=tf.keras.initializers.GlorotUniform(seed))))\n",
    "model_lstm_1.add(Dropout(0.1))\n",
    "model_lstm_1.add(Dense(4, activation='softmax'))\n",
    "\n",
    "model_lstm_1.compile(loss='categorical_crossentropy', optimizer='adam', metrics='accuracy')\n",
    "\n",
    "model_lstm_1_hist = model_lstm_1.fit(X_train, y_train_ohe, epochs=20, validation_data=(X_val, y_val_ohe))"
   ]
  },
  {
   "cell_type": "code",
   "execution_count": 73,
   "metadata": {},
   "outputs": [
    {
     "name": "stderr",
     "output_type": "stream",
     "text": [
      "c:\\ProgramData\\miniconda3\\Lib\\site-packages\\seaborn\\_oldcore.py:1498: FutureWarning: is_categorical_dtype is deprecated and will be removed in a future version. Use isinstance(dtype, CategoricalDtype) instead\n",
      "  if pd.api.types.is_categorical_dtype(vector):\n",
      "c:\\ProgramData\\miniconda3\\Lib\\site-packages\\seaborn\\_oldcore.py:1498: FutureWarning: is_categorical_dtype is deprecated and will be removed in a future version. Use isinstance(dtype, CategoricalDtype) instead\n",
      "  if pd.api.types.is_categorical_dtype(vector):\n",
      "c:\\ProgramData\\miniconda3\\Lib\\site-packages\\seaborn\\_oldcore.py:1498: FutureWarning: is_categorical_dtype is deprecated and will be removed in a future version. Use isinstance(dtype, CategoricalDtype) instead\n",
      "  if pd.api.types.is_categorical_dtype(vector):\n",
      "c:\\ProgramData\\miniconda3\\Lib\\site-packages\\seaborn\\_oldcore.py:1498: FutureWarning: is_categorical_dtype is deprecated and will be removed in a future version. Use isinstance(dtype, CategoricalDtype) instead\n",
      "  if pd.api.types.is_categorical_dtype(vector):\n",
      "c:\\ProgramData\\miniconda3\\Lib\\site-packages\\seaborn\\_oldcore.py:1498: FutureWarning: is_categorical_dtype is deprecated and will be removed in a future version. Use isinstance(dtype, CategoricalDtype) instead\n",
      "  if pd.api.types.is_categorical_dtype(vector):\n",
      "c:\\ProgramData\\miniconda3\\Lib\\site-packages\\seaborn\\_oldcore.py:1498: FutureWarning: is_categorical_dtype is deprecated and will be removed in a future version. Use isinstance(dtype, CategoricalDtype) instead\n",
      "  if pd.api.types.is_categorical_dtype(vector):\n",
      "c:\\ProgramData\\miniconda3\\Lib\\site-packages\\seaborn\\_oldcore.py:1498: FutureWarning: is_categorical_dtype is deprecated and will be removed in a future version. Use isinstance(dtype, CategoricalDtype) instead\n",
      "  if pd.api.types.is_categorical_dtype(vector):\n",
      "c:\\ProgramData\\miniconda3\\Lib\\site-packages\\seaborn\\_oldcore.py:1498: FutureWarning: is_categorical_dtype is deprecated and will be removed in a future version. Use isinstance(dtype, CategoricalDtype) instead\n",
      "  if pd.api.types.is_categorical_dtype(vector):\n",
      "c:\\ProgramData\\miniconda3\\Lib\\site-packages\\seaborn\\_oldcore.py:1498: FutureWarning: is_categorical_dtype is deprecated and will be removed in a future version. Use isinstance(dtype, CategoricalDtype) instead\n",
      "  if pd.api.types.is_categorical_dtype(vector):\n",
      "c:\\ProgramData\\miniconda3\\Lib\\site-packages\\seaborn\\_oldcore.py:1498: FutureWarning: is_categorical_dtype is deprecated and will be removed in a future version. Use isinstance(dtype, CategoricalDtype) instead\n",
      "  if pd.api.types.is_categorical_dtype(vector):\n",
      "c:\\ProgramData\\miniconda3\\Lib\\site-packages\\seaborn\\_oldcore.py:1498: FutureWarning: is_categorical_dtype is deprecated and will be removed in a future version. Use isinstance(dtype, CategoricalDtype) instead\n",
      "  if pd.api.types.is_categorical_dtype(vector):\n",
      "c:\\ProgramData\\miniconda3\\Lib\\site-packages\\seaborn\\_oldcore.py:1498: FutureWarning: is_categorical_dtype is deprecated and will be removed in a future version. Use isinstance(dtype, CategoricalDtype) instead\n",
      "  if pd.api.types.is_categorical_dtype(vector):\n",
      "c:\\ProgramData\\miniconda3\\Lib\\site-packages\\seaborn\\_oldcore.py:1119: FutureWarning: use_inf_as_na option is deprecated and will be removed in a future version. Convert inf values to NaN before operating instead.\n",
      "  with pd.option_context('mode.use_inf_as_na', True):\n",
      "c:\\ProgramData\\miniconda3\\Lib\\site-packages\\seaborn\\_oldcore.py:1119: FutureWarning: use_inf_as_na option is deprecated and will be removed in a future version. Convert inf values to NaN before operating instead.\n",
      "  with pd.option_context('mode.use_inf_as_na', True):\n",
      "c:\\ProgramData\\miniconda3\\Lib\\site-packages\\seaborn\\_oldcore.py:1498: FutureWarning: is_categorical_dtype is deprecated and will be removed in a future version. Use isinstance(dtype, CategoricalDtype) instead\n",
      "  if pd.api.types.is_categorical_dtype(vector):\n",
      "c:\\ProgramData\\miniconda3\\Lib\\site-packages\\seaborn\\_oldcore.py:1498: FutureWarning: is_categorical_dtype is deprecated and will be removed in a future version. Use isinstance(dtype, CategoricalDtype) instead\n",
      "  if pd.api.types.is_categorical_dtype(vector):\n",
      "c:\\ProgramData\\miniconda3\\Lib\\site-packages\\seaborn\\_oldcore.py:1498: FutureWarning: is_categorical_dtype is deprecated and will be removed in a future version. Use isinstance(dtype, CategoricalDtype) instead\n",
      "  if pd.api.types.is_categorical_dtype(vector):\n",
      "c:\\ProgramData\\miniconda3\\Lib\\site-packages\\seaborn\\_oldcore.py:1498: FutureWarning: is_categorical_dtype is deprecated and will be removed in a future version. Use isinstance(dtype, CategoricalDtype) instead\n",
      "  if pd.api.types.is_categorical_dtype(vector):\n",
      "c:\\ProgramData\\miniconda3\\Lib\\site-packages\\seaborn\\_oldcore.py:1498: FutureWarning: is_categorical_dtype is deprecated and will be removed in a future version. Use isinstance(dtype, CategoricalDtype) instead\n",
      "  if pd.api.types.is_categorical_dtype(vector):\n",
      "c:\\ProgramData\\miniconda3\\Lib\\site-packages\\seaborn\\_oldcore.py:1498: FutureWarning: is_categorical_dtype is deprecated and will be removed in a future version. Use isinstance(dtype, CategoricalDtype) instead\n",
      "  if pd.api.types.is_categorical_dtype(vector):\n",
      "c:\\ProgramData\\miniconda3\\Lib\\site-packages\\seaborn\\_oldcore.py:1498: FutureWarning: is_categorical_dtype is deprecated and will be removed in a future version. Use isinstance(dtype, CategoricalDtype) instead\n",
      "  if pd.api.types.is_categorical_dtype(vector):\n",
      "c:\\ProgramData\\miniconda3\\Lib\\site-packages\\seaborn\\_oldcore.py:1498: FutureWarning: is_categorical_dtype is deprecated and will be removed in a future version. Use isinstance(dtype, CategoricalDtype) instead\n",
      "  if pd.api.types.is_categorical_dtype(vector):\n",
      "c:\\ProgramData\\miniconda3\\Lib\\site-packages\\seaborn\\_oldcore.py:1498: FutureWarning: is_categorical_dtype is deprecated and will be removed in a future version. Use isinstance(dtype, CategoricalDtype) instead\n",
      "  if pd.api.types.is_categorical_dtype(vector):\n",
      "c:\\ProgramData\\miniconda3\\Lib\\site-packages\\seaborn\\_oldcore.py:1498: FutureWarning: is_categorical_dtype is deprecated and will be removed in a future version. Use isinstance(dtype, CategoricalDtype) instead\n",
      "  if pd.api.types.is_categorical_dtype(vector):\n",
      "c:\\ProgramData\\miniconda3\\Lib\\site-packages\\seaborn\\_oldcore.py:1498: FutureWarning: is_categorical_dtype is deprecated and will be removed in a future version. Use isinstance(dtype, CategoricalDtype) instead\n",
      "  if pd.api.types.is_categorical_dtype(vector):\n",
      "c:\\ProgramData\\miniconda3\\Lib\\site-packages\\seaborn\\_oldcore.py:1498: FutureWarning: is_categorical_dtype is deprecated and will be removed in a future version. Use isinstance(dtype, CategoricalDtype) instead\n",
      "  if pd.api.types.is_categorical_dtype(vector):\n",
      "c:\\ProgramData\\miniconda3\\Lib\\site-packages\\seaborn\\_oldcore.py:1119: FutureWarning: use_inf_as_na option is deprecated and will be removed in a future version. Convert inf values to NaN before operating instead.\n",
      "  with pd.option_context('mode.use_inf_as_na', True):\n",
      "c:\\ProgramData\\miniconda3\\Lib\\site-packages\\seaborn\\_oldcore.py:1119: FutureWarning: use_inf_as_na option is deprecated and will be removed in a future version. Convert inf values to NaN before operating instead.\n",
      "  with pd.option_context('mode.use_inf_as_na', True):\n"
     ]
    },
    {
     "data": {
      "image/png": "[encoded data removed]",
      "text/plain": [
       "<Figure size 1500x500 with 2 Axes>"
      ]
     },
     "metadata": {},
     "output_type": "display_data"
    }
   ],
   "source": [
    "# Plot Training Results\n",
    "\n",
    "model_lstm_1_hist_df = pd.DataFrame(model_lstm_1_hist.history)\n",
    "\n",
    "plt.figure(figsize=(15, 5))\n",
    "plt.subplot(1, 2, 1)\n",
    "sns.lineplot(data=model_lstm_1_hist_df[['accuracy', 'val_accuracy']])\n",
    "plt.grid()\n",
    "plt.title('Accuracy vs Val-Accuracy')\n",
    "\n",
    "plt.subplot(1, 2, 2)\n",
    "sns.lineplot(data=model_lstm_1_hist_df[['loss', 'val_loss']])\n",
    "plt.grid()\n",
    "plt.title('Loss vs Val-Loss')\n",
    "plt.show()"
   ]
  },
  {
   "cell_type": "markdown",
   "metadata": {},
   "source": [
    "### 6.3.2 LSTM - 128 batch"
   ]
  },
  {
   "cell_type": "code",
   "execution_count": 83,
   "metadata": {},
   "outputs": [
    {
     "name": "stdout",
     "output_type": "stream",
     "text": [
      "Epoch 1/20\n",
      "447/447 [==============================] - 60s 124ms/step - loss: 0.4402 - accuracy: 0.8409 - val_loss: 0.4440 - val_accuracy: 0.8450\n",
      "Epoch 2/20\n",
      "447/447 [==============================] - 50s 113ms/step - loss: 0.1667 - accuracy: 0.9345 - val_loss: 0.4398 - val_accuracy: 0.8592\n",
      "Epoch 3/20\n",
      "447/447 [==============================] - 50s 112ms/step - loss: 0.1226 - accuracy: 0.9492 - val_loss: 0.4832 - val_accuracy: 0.8685\n",
      "Epoch 4/20\n",
      "447/447 [==============================] - 51s 115ms/step - loss: 0.1086 - accuracy: 0.9539 - val_loss: 0.5302 - val_accuracy: 0.8656\n",
      "Epoch 5/20\n",
      "447/447 [==============================] - 50s 113ms/step - loss: 0.1004 - accuracy: 0.9553 - val_loss: 0.5816 - val_accuracy: 0.8612\n",
      "Epoch 6/20\n",
      "447/447 [==============================] - 52s 116ms/step - loss: 0.0974 - accuracy: 0.9566 - val_loss: 0.5712 - val_accuracy: 0.8664\n",
      "Epoch 7/20\n",
      "447/447 [==============================] - 51s 113ms/step - loss: 0.0919 - accuracy: 0.9586 - val_loss: 0.6195 - val_accuracy: 0.8658\n",
      "Epoch 8/20\n",
      "447/447 [==============================] - 53s 118ms/step - loss: 0.0875 - accuracy: 0.9597 - val_loss: 0.6383 - val_accuracy: 0.8656\n",
      "Epoch 9/20\n",
      "447/447 [==============================] - 60s 134ms/step - loss: 0.0890 - accuracy: 0.9602 - val_loss: 0.6093 - val_accuracy: 0.8693\n",
      "Epoch 10/20\n",
      "447/447 [==============================] - 77s 171ms/step - loss: 0.0881 - accuracy: 0.9601 - val_loss: 0.6249 - val_accuracy: 0.8700\n",
      "Epoch 11/20\n",
      "447/447 [==============================] - 77s 171ms/step - loss: 0.0867 - accuracy: 0.9603 - val_loss: 0.6525 - val_accuracy: 0.8689\n",
      "Epoch 12/20\n",
      "447/447 [==============================] - 80s 179ms/step - loss: 0.0849 - accuracy: 0.9609 - val_loss: 0.6424 - val_accuracy: 0.8715\n",
      "Epoch 13/20\n",
      "447/447 [==============================] - 72s 161ms/step - loss: 0.0817 - accuracy: 0.9616 - val_loss: 0.6642 - val_accuracy: 0.8688\n",
      "Epoch 14/20\n",
      "447/447 [==============================] - 71s 159ms/step - loss: 0.0832 - accuracy: 0.9618 - val_loss: 0.6254 - val_accuracy: 0.8669\n",
      "Epoch 15/20\n",
      "447/447 [==============================] - 74s 166ms/step - loss: 0.0819 - accuracy: 0.9617 - val_loss: 0.6569 - val_accuracy: 0.8705\n",
      "Epoch 16/20\n",
      "447/447 [==============================] - 85s 190ms/step - loss: 0.0822 - accuracy: 0.9614 - val_loss: 0.6935 - val_accuracy: 0.8702\n",
      "Epoch 17/20\n",
      "447/447 [==============================] - 83s 185ms/step - loss: 0.0804 - accuracy: 0.9633 - val_loss: 0.6839 - val_accuracy: 0.8689\n",
      "Epoch 18/20\n",
      "447/447 [==============================] - 73s 163ms/step - loss: 0.0794 - accuracy: 0.9624 - val_loss: 0.7229 - val_accuracy: 0.8693\n",
      "Epoch 19/20\n",
      "447/447 [==============================] - 74s 165ms/step - loss: 0.0788 - accuracy: 0.9622 - val_loss: 0.7360 - val_accuracy: 0.8691\n",
      "Epoch 20/20\n",
      "447/447 [==============================] - 71s 160ms/step - loss: 0.0792 - accuracy: 0.9626 - val_loss: 0.7173 - val_accuracy: 0.8680\n"
     ]
    }
   ],
   "source": [
    "## Batch Size 128\n",
    "\n",
    "## Clear Session\n",
    "seed = 20\n",
    "tf.keras.backend.clear_session()\n",
    "np.random.seed(seed)\n",
    "tf.random.set_seed(seed)\n",
    "\n",
    "## Define the architecture\n",
    "model_lstm_3 = Sequential()\n",
    "model_lstm_3.add(text_vectorization)\n",
    "model_lstm_3.add(embedding)\n",
    "model_lstm_3.add(Bidirectional(LSTM(32, return_sequences=True, kernel_initializer=tf.keras.initializers.GlorotUniform(seed))))\n",
    "model_lstm_3.add(Dropout(0.1))\n",
    "model_lstm_3.add(Bidirectional(LSTM(16, kernel_initializer=tf.keras.initializers.GlorotUniform(seed))))\n",
    "model_lstm_3.add(Dropout(0.1))\n",
    "model_lstm_3.add(Dense(4, activation='softmax'))\n",
    "\n",
    "model_lstm_3.compile(loss='categorical_crossentropy', optimizer='adam', metrics='accuracy')\n",
    "\n",
    "batch = 128\n",
    "model_lstm_3_hist = model_lstm_3.fit(X_train, y_train_ohe, epochs=20, batch_size=batch, validation_data=(X_val, y_val_ohe))"
   ]
  },
  {
   "cell_type": "code",
   "execution_count": 85,
   "metadata": {},
   "outputs": [
    {
     "name": "stderr",
     "output_type": "stream",
     "text": [
      "c:\\ProgramData\\miniconda3\\Lib\\site-packages\\seaborn\\_oldcore.py:1498: FutureWarning: is_categorical_dtype is deprecated and will be removed in a future version. Use isinstance(dtype, CategoricalDtype) instead\n",
      "  if pd.api.types.is_categorical_dtype(vector):\n",
      "c:\\ProgramData\\miniconda3\\Lib\\site-packages\\seaborn\\_oldcore.py:1498: FutureWarning: is_categorical_dtype is deprecated and will be removed in a future version. Use isinstance(dtype, CategoricalDtype) instead\n",
      "  if pd.api.types.is_categorical_dtype(vector):\n",
      "c:\\ProgramData\\miniconda3\\Lib\\site-packages\\seaborn\\_oldcore.py:1498: FutureWarning: is_categorical_dtype is deprecated and will be removed in a future version. Use isinstance(dtype, CategoricalDtype) instead\n",
      "  if pd.api.types.is_categorical_dtype(vector):\n",
      "c:\\ProgramData\\miniconda3\\Lib\\site-packages\\seaborn\\_oldcore.py:1498: FutureWarning: is_categorical_dtype is deprecated and will be removed in a future version. Use isinstance(dtype, CategoricalDtype) instead\n",
      "  if pd.api.types.is_categorical_dtype(vector):\n",
      "c:\\ProgramData\\miniconda3\\Lib\\site-packages\\seaborn\\_oldcore.py:1498: FutureWarning: is_categorical_dtype is deprecated and will be removed in a future version. Use isinstance(dtype, CategoricalDtype) instead\n",
      "  if pd.api.types.is_categorical_dtype(vector):\n",
      "c:\\ProgramData\\miniconda3\\Lib\\site-packages\\seaborn\\_oldcore.py:1498: FutureWarning: is_categorical_dtype is deprecated and will be removed in a future version. Use isinstance(dtype, CategoricalDtype) instead\n",
      "  if pd.api.types.is_categorical_dtype(vector):\n",
      "c:\\ProgramData\\miniconda3\\Lib\\site-packages\\seaborn\\_oldcore.py:1498: FutureWarning: is_categorical_dtype is deprecated and will be removed in a future version. Use isinstance(dtype, CategoricalDtype) instead\n",
      "  if pd.api.types.is_categorical_dtype(vector):\n",
      "c:\\ProgramData\\miniconda3\\Lib\\site-packages\\seaborn\\_oldcore.py:1498: FutureWarning: is_categorical_dtype is deprecated and will be removed in a future version. Use isinstance(dtype, CategoricalDtype) instead\n",
      "  if pd.api.types.is_categorical_dtype(vector):\n",
      "c:\\ProgramData\\miniconda3\\Lib\\site-packages\\seaborn\\_oldcore.py:1498: FutureWarning: is_categorical_dtype is deprecated and will be removed in a future version. Use isinstance(dtype, CategoricalDtype) instead\n",
      "  if pd.api.types.is_categorical_dtype(vector):\n",
      "c:\\ProgramData\\miniconda3\\Lib\\site-packages\\seaborn\\_oldcore.py:1498: FutureWarning: is_categorical_dtype is deprecated and will be removed in a future version. Use isinstance(dtype, CategoricalDtype) instead\n",
      "  if pd.api.types.is_categorical_dtype(vector):\n",
      "c:\\ProgramData\\miniconda3\\Lib\\site-packages\\seaborn\\_oldcore.py:1498: FutureWarning: is_categorical_dtype is deprecated and will be removed in a future version. Use isinstance(dtype, CategoricalDtype) instead\n",
      "  if pd.api.types.is_categorical_dtype(vector):\n",
      "c:\\ProgramData\\miniconda3\\Lib\\site-packages\\seaborn\\_oldcore.py:1498: FutureWarning: is_categorical_dtype is deprecated and will be removed in a future version. Use isinstance(dtype, CategoricalDtype) instead\n",
      "  if pd.api.types.is_categorical_dtype(vector):\n",
      "c:\\ProgramData\\miniconda3\\Lib\\site-packages\\seaborn\\_oldcore.py:1119: FutureWarning: use_inf_as_na option is deprecated and will be removed in a future version. Convert inf values to NaN before operating instead.\n",
      "  with pd.option_context('mode.use_inf_as_na', True):\n",
      "c:\\ProgramData\\miniconda3\\Lib\\site-packages\\seaborn\\_oldcore.py:1119: FutureWarning: use_inf_as_na option is deprecated and will be removed in a future version. Convert inf values to NaN before operating instead.\n",
      "  with pd.option_context('mode.use_inf_as_na', True):\n",
      "c:\\ProgramData\\miniconda3\\Lib\\site-packages\\seaborn\\_oldcore.py:1498: FutureWarning: is_categorical_dtype is deprecated and will be removed in a future version. Use isinstance(dtype, CategoricalDtype) instead\n",
      "  if pd.api.types.is_categorical_dtype(vector):\n",
      "c:\\ProgramData\\miniconda3\\Lib\\site-packages\\seaborn\\_oldcore.py:1498: FutureWarning: is_categorical_dtype is deprecated and will be removed in a future version. Use isinstance(dtype, CategoricalDtype) instead\n",
      "  if pd.api.types.is_categorical_dtype(vector):\n",
      "c:\\ProgramData\\miniconda3\\Lib\\site-packages\\seaborn\\_oldcore.py:1498: FutureWarning: is_categorical_dtype is deprecated and will be removed in a future version. Use isinstance(dtype, CategoricalDtype) instead\n",
      "  if pd.api.types.is_categorical_dtype(vector):\n",
      "c:\\ProgramData\\miniconda3\\Lib\\site-packages\\seaborn\\_oldcore.py:1498: FutureWarning: is_categorical_dtype is deprecated and will be removed in a future version. Use isinstance(dtype, CategoricalDtype) instead\n",
      "  if pd.api.types.is_categorical_dtype(vector):\n",
      "c:\\ProgramData\\miniconda3\\Lib\\site-packages\\seaborn\\_oldcore.py:1498: FutureWarning: is_categorical_dtype is deprecated and will be removed in a future version. Use isinstance(dtype, CategoricalDtype) instead\n",
      "  if pd.api.types.is_categorical_dtype(vector):\n",
      "c:\\ProgramData\\miniconda3\\Lib\\site-packages\\seaborn\\_oldcore.py:1498: FutureWarning: is_categorical_dtype is deprecated and will be removed in a future version. Use isinstance(dtype, CategoricalDtype) instead\n",
      "  if pd.api.types.is_categorical_dtype(vector):\n",
      "c:\\ProgramData\\miniconda3\\Lib\\site-packages\\seaborn\\_oldcore.py:1498: FutureWarning: is_categorical_dtype is deprecated and will be removed in a future version. Use isinstance(dtype, CategoricalDtype) instead\n",
      "  if pd.api.types.is_categorical_dtype(vector):\n",
      "c:\\ProgramData\\miniconda3\\Lib\\site-packages\\seaborn\\_oldcore.py:1498: FutureWarning: is_categorical_dtype is deprecated and will be removed in a future version. Use isinstance(dtype, CategoricalDtype) instead\n",
      "  if pd.api.types.is_categorical_dtype(vector):\n",
      "c:\\ProgramData\\miniconda3\\Lib\\site-packages\\seaborn\\_oldcore.py:1498: FutureWarning: is_categorical_dtype is deprecated and will be removed in a future version. Use isinstance(dtype, CategoricalDtype) instead\n",
      "  if pd.api.types.is_categorical_dtype(vector):\n",
      "c:\\ProgramData\\miniconda3\\Lib\\site-packages\\seaborn\\_oldcore.py:1498: FutureWarning: is_categorical_dtype is deprecated and will be removed in a future version. Use isinstance(dtype, CategoricalDtype) instead\n",
      "  if pd.api.types.is_categorical_dtype(vector):\n",
      "c:\\ProgramData\\miniconda3\\Lib\\site-packages\\seaborn\\_oldcore.py:1498: FutureWarning: is_categorical_dtype is deprecated and will be removed in a future version. Use isinstance(dtype, CategoricalDtype) instead\n",
      "  if pd.api.types.is_categorical_dtype(vector):\n",
      "c:\\ProgramData\\miniconda3\\Lib\\site-packages\\seaborn\\_oldcore.py:1498: FutureWarning: is_categorical_dtype is deprecated and will be removed in a future version. Use isinstance(dtype, CategoricalDtype) instead\n",
      "  if pd.api.types.is_categorical_dtype(vector):\n",
      "c:\\ProgramData\\miniconda3\\Lib\\site-packages\\seaborn\\_oldcore.py:1119: FutureWarning: use_inf_as_na option is deprecated and will be removed in a future version. Convert inf values to NaN before operating instead.\n",
      "  with pd.option_context('mode.use_inf_as_na', True):\n",
      "c:\\ProgramData\\miniconda3\\Lib\\site-packages\\seaborn\\_oldcore.py:1119: FutureWarning: use_inf_as_na option is deprecated and will be removed in a future version. Convert inf values to NaN before operating instead.\n",
      "  with pd.option_context('mode.use_inf_as_na', True):\n"
     ]
    },
    {
     "data": {
      "image/png": "[encoded data removed]",
      "text/plain": [
       "<Figure size 1500x500 with 2 Axes>"
      ]
     },
     "metadata": {},
     "output_type": "display_data"
    }
   ],
   "source": [
    "# Plot Training Results\n",
    "\n",
    "model_lstm_3_hist_df = pd.DataFrame(model_lstm_3_hist.history)\n",
    "\n",
    "plt.figure(figsize=(15, 5))\n",
    "plt.subplot(1, 2, 1)\n",
    "sns.lineplot(data=model_lstm_3_hist_df[['accuracy', 'val_accuracy']])\n",
    "plt.grid()\n",
    "plt.title('Accuracy vs Val-Accuracy')\n",
    "\n",
    "plt.subplot(1, 2, 2)\n",
    "sns.lineplot(data=model_lstm_3_hist_df[['loss', 'val_loss']])\n",
    "plt.grid()\n",
    "plt.title('Loss vs Val-Loss')\n",
    "plt.show()"
   ]
  },
  {
   "cell_type": "markdown",
   "metadata": {},
   "source": [
    "### test lstm"
   ]
  },
  {
   "cell_type": "code",
   "execution_count": 43,
   "metadata": {},
   "outputs": [
    {
     "ename": "NameError",
     "evalue": "name 'model_lstm_3' is not defined",
     "output_type": "error",
     "traceback": [
      "\u001b[1;31m---------------------------------------------------------------------------\u001b[0m",
      "\u001b[1;31mNameError\u001b[0m                                 Traceback (most recent call last)",
      "\u001b[1;32md:\\Work\\Hacktiv8\\Data Science\\Lecture\\Project\\Twitter-Sentiment-Analysis\\nlp_analysis.ipynb Cell 58\u001b[0m line \u001b[0;36m2\n\u001b[0;32m     <a href='vscode-notebook-cell:/d%3A/Work/Hacktiv8/Data%20Science/Lecture/Project/Twitter-Sentiment-Analysis/nlp_analysis.ipynb#Y123sZmlsZQ%3D%3D?line=16'>17</a>\u001b[0m model_lstm_5\u001b[39m.\u001b[39mcompile(loss\u001b[39m=\u001b[39m\u001b[39m'\u001b[39m\u001b[39mcategorical_crossentropy\u001b[39m\u001b[39m'\u001b[39m, optimizer\u001b[39m=\u001b[39m\u001b[39m'\u001b[39m\u001b[39madam\u001b[39m\u001b[39m'\u001b[39m, metrics\u001b[39m=\u001b[39m\u001b[39m'\u001b[39m\u001b[39maccuracy\u001b[39m\u001b[39m'\u001b[39m)\n\u001b[0;32m     <a href='vscode-notebook-cell:/d%3A/Work/Hacktiv8/Data%20Science/Lecture/Project/Twitter-Sentiment-Analysis/nlp_analysis.ipynb#Y123sZmlsZQ%3D%3D?line=18'>19</a>\u001b[0m batch \u001b[39m=\u001b[39m \u001b[39m32\u001b[39m\n\u001b[1;32m---> <a href='vscode-notebook-cell:/d%3A/Work/Hacktiv8/Data%20Science/Lecture/Project/Twitter-Sentiment-Analysis/nlp_analysis.ipynb#Y123sZmlsZQ%3D%3D?line=19'>20</a>\u001b[0m model_lstm_5_hist \u001b[39m=\u001b[39m model_lstm_3\u001b[39m.\u001b[39mfit(X_train, y_train_ohe, epochs\u001b[39m=\u001b[39m\u001b[39m20\u001b[39m, batch_size\u001b[39m=\u001b[39mbatch, validation_data\u001b[39m=\u001b[39m(X_val, y_val_ohe))\n",
      "\u001b[1;31mNameError\u001b[0m: name 'model_lstm_3' is not defined"
     ]
    }
   ],
   "source": [
    "## Clear Session\n",
    "seed = 20\n",
    "tf.keras.backend.clear_session()\n",
    "np.random.seed(seed)\n",
    "tf.random.set_seed(seed)\n",
    "\n",
    "## Define the architecture\n",
    "model_lstm_5 = Sequential()\n",
    "model_lstm_5.add(text_vectorization)\n",
    "model_lstm_5.add(embedding)\n",
    "model_lstm_5.add(Bidirectional(LSTM(32, return_sequences=True, kernel_initializer=tf.keras.initializers.GlorotUniform(seed))))\n",
    "model_lstm_5.add(Dropout(0.1))\n",
    "model_lstm_5.add(Bidirectional(LSTM(16, kernel_initializer=tf.keras.initializers.GlorotUniform(seed))))\n",
    "model_lstm_5.add(Dropout(0.1))\n",
    "model_lstm_5.add(Dense(4, activation='softmax'))\n",
    "\n",
    "model_lstm_5.compile(loss='categorical_crossentropy', optimizer='adam', metrics='accuracy')\n",
    "\n",
    "batch = 32\n",
    "model_lstm_5_hist = model_lstm_5.fit(X_train, y_train_ohe, epochs=20, batch_size=batch, validation_data=(X_val, y_val_ohe))"
   ]
  },
  {
   "cell_type": "markdown",
   "metadata": {},
   "source": [
    "### 6.3.3 LSTM with Transfer Learning - Default Batch"
   ]
  },
  {
   "cell_type": "code",
   "execution_count": 41,
   "metadata": {},
   "outputs": [
    {
     "name": "stdout",
     "output_type": "stream",
     "text": [
      "WARNING:tensorflow:From c:\\ProgramData\\miniconda3\\Lib\\site-packages\\tensorflow_hub\\resolver.py:120: The name tf.gfile.MakeDirs is deprecated. Please use tf.io.gfile.makedirs instead.\n",
      "\n"
     ]
    },
    {
     "name": "stderr",
     "output_type": "stream",
     "text": [
      "WARNING:tensorflow:From c:\\ProgramData\\miniconda3\\Lib\\site-packages\\tensorflow_hub\\resolver.py:120: The name tf.gfile.MakeDirs is deprecated. Please use tf.io.gfile.makedirs instead.\n",
      "\n"
     ]
    },
    {
     "name": "stdout",
     "output_type": "stream",
     "text": [
      "WARNING:tensorflow:From c:\\ProgramData\\miniconda3\\Lib\\site-packages\\tensorflow_hub\\module_v2.py:126: The name tf.saved_model.load_v2 is deprecated. Please use tf.compat.v2.saved_model.load instead.\n",
      "\n"
     ]
    },
    {
     "name": "stderr",
     "output_type": "stream",
     "text": [
      "WARNING:tensorflow:From c:\\ProgramData\\miniconda3\\Lib\\site-packages\\tensorflow_hub\\module_v2.py:126: The name tf.saved_model.load_v2 is deprecated. Please use tf.compat.v2.saved_model.load instead.\n",
      "\n"
     ]
    }
   ],
   "source": [
    "# Download the Embedding Layer\n",
    "\n",
    "url = 'https://tfhub.dev/google/tf2-preview/nnlm-id-dim128-with-normalization/1'\n",
    "\n",
    "hub_layer = tf_hub.KerasLayer(url, output_shape=[128], input_shape=[], dtype=tf.string)"
   ]
  },
  {
   "cell_type": "code",
   "execution_count": 77,
   "metadata": {},
   "outputs": [
    {
     "name": "stdout",
     "output_type": "stream",
     "text": [
      "Epoch 1/20\n",
      "1786/1786 [==============================] - 60s 31ms/step - loss: 1.3557 - accuracy: 0.3246 - val_loss: 1.3452 - val_accuracy: 0.3458\n",
      "Epoch 2/20\n",
      "1786/1786 [==============================] - 55s 31ms/step - loss: 1.3384 - accuracy: 0.3580 - val_loss: 1.3333 - val_accuracy: 0.3589\n",
      "Epoch 3/20\n",
      "1786/1786 [==============================] - 57s 32ms/step - loss: 1.3323 - accuracy: 0.3636 - val_loss: 1.3271 - val_accuracy: 0.3678\n",
      "Epoch 4/20\n",
      "1786/1786 [==============================] - 64s 36ms/step - loss: 1.3263 - accuracy: 0.3711 - val_loss: 1.3411 - val_accuracy: 0.3499\n",
      "Epoch 5/20\n",
      "1786/1786 [==============================] - 63s 35ms/step - loss: 1.3261 - accuracy: 0.3697 - val_loss: 1.3313 - val_accuracy: 0.3683\n",
      "Epoch 6/20\n",
      "1786/1786 [==============================] - 62s 35ms/step - loss: 1.3178 - accuracy: 0.3790 - val_loss: 1.3221 - val_accuracy: 0.3708\n",
      "Epoch 7/20\n",
      "1786/1786 [==============================] - 76s 42ms/step - loss: 1.3134 - accuracy: 0.3821 - val_loss: 1.3165 - val_accuracy: 0.3782\n",
      "Epoch 8/20\n",
      "1786/1786 [==============================] - 87s 49ms/step - loss: 1.3097 - accuracy: 0.3869 - val_loss: 1.3099 - val_accuracy: 0.3858\n",
      "Epoch 9/20\n",
      "1786/1786 [==============================] - 75s 42ms/step - loss: 1.3068 - accuracy: 0.3900 - val_loss: 1.3085 - val_accuracy: 0.3875\n",
      "Epoch 10/20\n",
      "1786/1786 [==============================] - 60s 34ms/step - loss: 1.3022 - accuracy: 0.3948 - val_loss: 1.3026 - val_accuracy: 0.3913\n",
      "Epoch 11/20\n",
      "1786/1786 [==============================] - 57s 32ms/step - loss: 1.2990 - accuracy: 0.3950 - val_loss: 1.2975 - val_accuracy: 0.3971\n",
      "Epoch 12/20\n",
      "1786/1786 [==============================] - 58s 32ms/step - loss: 1.2935 - accuracy: 0.4033 - val_loss: 1.2945 - val_accuracy: 0.3979\n",
      "Epoch 13/20\n",
      "1786/1786 [==============================] - 58s 32ms/step - loss: 1.2898 - accuracy: 0.4055 - val_loss: 1.2889 - val_accuracy: 0.3971\n",
      "Epoch 14/20\n",
      "1786/1786 [==============================] - 72s 40ms/step - loss: 1.2857 - accuracy: 0.4062 - val_loss: 1.2867 - val_accuracy: 0.4091\n",
      "Epoch 15/20\n",
      "1786/1786 [==============================] - 76s 42ms/step - loss: 1.2812 - accuracy: 0.4103 - val_loss: 1.2804 - val_accuracy: 0.4112\n",
      "Epoch 16/20\n",
      "1786/1786 [==============================] - 77s 43ms/step - loss: 1.2756 - accuracy: 0.4177 - val_loss: 1.2740 - val_accuracy: 0.4275\n",
      "Epoch 17/20\n",
      "1786/1786 [==============================] - 83s 46ms/step - loss: 1.2714 - accuracy: 0.4182 - val_loss: 1.2733 - val_accuracy: 0.4160\n",
      "Epoch 18/20\n",
      "1786/1786 [==============================] - 82s 46ms/step - loss: 1.2666 - accuracy: 0.4222 - val_loss: 1.2716 - val_accuracy: 0.4195\n",
      "Epoch 19/20\n",
      "1786/1786 [==============================] - 87s 49ms/step - loss: 1.2619 - accuracy: 0.4259 - val_loss: 1.2673 - val_accuracy: 0.4228\n",
      "Epoch 20/20\n",
      "1786/1786 [==============================] - 80s 45ms/step - loss: 1.2572 - accuracy: 0.4306 - val_loss: 1.2590 - val_accuracy: 0.4238\n"
     ]
    }
   ],
   "source": [
    "## Clear Session\n",
    "seed = 20\n",
    "tf.keras.backend.clear_session()\n",
    "np.random.seed(seed)\n",
    "tf.random.set_seed(seed)\n",
    "\n",
    "## Define the architecture\n",
    "model_lstm_2 = Sequential()\n",
    "model_lstm_2.add(hub_layer)\n",
    "model_lstm_2.add(Reshape((128, 1)))\n",
    "model_lstm_2.add(Bidirectional(LSTM(32, return_sequences=True, kernel_initializer=tf.keras.initializers.GlorotUniform(seed))))\n",
    "model_lstm_2.add(Dropout(0.1))\n",
    "model_lstm_2.add(Bidirectional(LSTM(16, kernel_initializer=tf.keras.initializers.GlorotUniform(seed))))\n",
    "model_lstm_2.add(Dropout(0.1))\n",
    "model_lstm_2.add(Dense(4, activation='softmax'))\n",
    "\n",
    "model_lstm_2.compile(loss='categorical_crossentropy', optimizer='adam', metrics='accuracy')\n",
    "\n",
    "model_lstm_2_hist = model_lstm_2.fit(X_train, y_train_ohe, epochs=20, validation_data=(X_val, y_val_ohe))"
   ]
  },
  {
   "cell_type": "code",
   "execution_count": 78,
   "metadata": {},
   "outputs": [
    {
     "name": "stderr",
     "output_type": "stream",
     "text": [
      "c:\\ProgramData\\miniconda3\\Lib\\site-packages\\seaborn\\_oldcore.py:1498: FutureWarning: is_categorical_dtype is deprecated and will be removed in a future version. Use isinstance(dtype, CategoricalDtype) instead\n",
      "  if pd.api.types.is_categorical_dtype(vector):\n",
      "c:\\ProgramData\\miniconda3\\Lib\\site-packages\\seaborn\\_oldcore.py:1498: FutureWarning: is_categorical_dtype is deprecated and will be removed in a future version. Use isinstance(dtype, CategoricalDtype) instead\n",
      "  if pd.api.types.is_categorical_dtype(vector):\n",
      "c:\\ProgramData\\miniconda3\\Lib\\site-packages\\seaborn\\_oldcore.py:1498: FutureWarning: is_categorical_dtype is deprecated and will be removed in a future version. Use isinstance(dtype, CategoricalDtype) instead\n",
      "  if pd.api.types.is_categorical_dtype(vector):\n",
      "c:\\ProgramData\\miniconda3\\Lib\\site-packages\\seaborn\\_oldcore.py:1498: FutureWarning: is_categorical_dtype is deprecated and will be removed in a future version. Use isinstance(dtype, CategoricalDtype) instead\n",
      "  if pd.api.types.is_categorical_dtype(vector):\n",
      "c:\\ProgramData\\miniconda3\\Lib\\site-packages\\seaborn\\_oldcore.py:1498: FutureWarning: is_categorical_dtype is deprecated and will be removed in a future version. Use isinstance(dtype, CategoricalDtype) instead\n",
      "  if pd.api.types.is_categorical_dtype(vector):\n",
      "c:\\ProgramData\\miniconda3\\Lib\\site-packages\\seaborn\\_oldcore.py:1498: FutureWarning: is_categorical_dtype is deprecated and will be removed in a future version. Use isinstance(dtype, CategoricalDtype) instead\n",
      "  if pd.api.types.is_categorical_dtype(vector):\n",
      "c:\\ProgramData\\miniconda3\\Lib\\site-packages\\seaborn\\_oldcore.py:1498: FutureWarning: is_categorical_dtype is deprecated and will be removed in a future version. Use isinstance(dtype, CategoricalDtype) instead\n",
      "  if pd.api.types.is_categorical_dtype(vector):\n",
      "c:\\ProgramData\\miniconda3\\Lib\\site-packages\\seaborn\\_oldcore.py:1498: FutureWarning: is_categorical_dtype is deprecated and will be removed in a future version. Use isinstance(dtype, CategoricalDtype) instead\n",
      "  if pd.api.types.is_categorical_dtype(vector):\n",
      "c:\\ProgramData\\miniconda3\\Lib\\site-packages\\seaborn\\_oldcore.py:1498: FutureWarning: is_categorical_dtype is deprecated and will be removed in a future version. Use isinstance(dtype, CategoricalDtype) instead\n",
      "  if pd.api.types.is_categorical_dtype(vector):\n",
      "c:\\ProgramData\\miniconda3\\Lib\\site-packages\\seaborn\\_oldcore.py:1498: FutureWarning: is_categorical_dtype is deprecated and will be removed in a future version. Use isinstance(dtype, CategoricalDtype) instead\n",
      "  if pd.api.types.is_categorical_dtype(vector):\n",
      "c:\\ProgramData\\miniconda3\\Lib\\site-packages\\seaborn\\_oldcore.py:1498: FutureWarning: is_categorical_dtype is deprecated and will be removed in a future version. Use isinstance(dtype, CategoricalDtype) instead\n",
      "  if pd.api.types.is_categorical_dtype(vector):\n",
      "c:\\ProgramData\\miniconda3\\Lib\\site-packages\\seaborn\\_oldcore.py:1498: FutureWarning: is_categorical_dtype is deprecated and will be removed in a future version. Use isinstance(dtype, CategoricalDtype) instead\n",
      "  if pd.api.types.is_categorical_dtype(vector):\n",
      "c:\\ProgramData\\miniconda3\\Lib\\site-packages\\seaborn\\_oldcore.py:1119: FutureWarning: use_inf_as_na option is deprecated and will be removed in a future version. Convert inf values to NaN before operating instead.\n",
      "  with pd.option_context('mode.use_inf_as_na', True):\n",
      "c:\\ProgramData\\miniconda3\\Lib\\site-packages\\seaborn\\_oldcore.py:1119: FutureWarning: use_inf_as_na option is deprecated and will be removed in a future version. Convert inf values to NaN before operating instead.\n",
      "  with pd.option_context('mode.use_inf_as_na', True):\n",
      "c:\\ProgramData\\miniconda3\\Lib\\site-packages\\seaborn\\_oldcore.py:1498: FutureWarning: is_categorical_dtype is deprecated and will be removed in a future version. Use isinstance(dtype, CategoricalDtype) instead\n",
      "  if pd.api.types.is_categorical_dtype(vector):\n",
      "c:\\ProgramData\\miniconda3\\Lib\\site-packages\\seaborn\\_oldcore.py:1498: FutureWarning: is_categorical_dtype is deprecated and will be removed in a future version. Use isinstance(dtype, CategoricalDtype) instead\n",
      "  if pd.api.types.is_categorical_dtype(vector):\n",
      "c:\\ProgramData\\miniconda3\\Lib\\site-packages\\seaborn\\_oldcore.py:1498: FutureWarning: is_categorical_dtype is deprecated and will be removed in a future version. Use isinstance(dtype, CategoricalDtype) instead\n",
      "  if pd.api.types.is_categorical_dtype(vector):\n",
      "c:\\ProgramData\\miniconda3\\Lib\\site-packages\\seaborn\\_oldcore.py:1498: FutureWarning: is_categorical_dtype is deprecated and will be removed in a future version. Use isinstance(dtype, CategoricalDtype) instead\n",
      "  if pd.api.types.is_categorical_dtype(vector):\n",
      "c:\\ProgramData\\miniconda3\\Lib\\site-packages\\seaborn\\_oldcore.py:1498: FutureWarning: is_categorical_dtype is deprecated and will be removed in a future version. Use isinstance(dtype, CategoricalDtype) instead\n",
      "  if pd.api.types.is_categorical_dtype(vector):\n",
      "c:\\ProgramData\\miniconda3\\Lib\\site-packages\\seaborn\\_oldcore.py:1498: FutureWarning: is_categorical_dtype is deprecated and will be removed in a future version. Use isinstance(dtype, CategoricalDtype) instead\n",
      "  if pd.api.types.is_categorical_dtype(vector):\n",
      "c:\\ProgramData\\miniconda3\\Lib\\site-packages\\seaborn\\_oldcore.py:1498: FutureWarning: is_categorical_dtype is deprecated and will be removed in a future version. Use isinstance(dtype, CategoricalDtype) instead\n",
      "  if pd.api.types.is_categorical_dtype(vector):\n",
      "c:\\ProgramData\\miniconda3\\Lib\\site-packages\\seaborn\\_oldcore.py:1498: FutureWarning: is_categorical_dtype is deprecated and will be removed in a future version. Use isinstance(dtype, CategoricalDtype) instead\n",
      "  if pd.api.types.is_categorical_dtype(vector):\n",
      "c:\\ProgramData\\miniconda3\\Lib\\site-packages\\seaborn\\_oldcore.py:1498: FutureWarning: is_categorical_dtype is deprecated and will be removed in a future version. Use isinstance(dtype, CategoricalDtype) instead\n",
      "  if pd.api.types.is_categorical_dtype(vector):\n",
      "c:\\ProgramData\\miniconda3\\Lib\\site-packages\\seaborn\\_oldcore.py:1498: FutureWarning: is_categorical_dtype is deprecated and will be removed in a future version. Use isinstance(dtype, CategoricalDtype) instead\n",
      "  if pd.api.types.is_categorical_dtype(vector):\n",
      "c:\\ProgramData\\miniconda3\\Lib\\site-packages\\seaborn\\_oldcore.py:1498: FutureWarning: is_categorical_dtype is deprecated and will be removed in a future version. Use isinstance(dtype, CategoricalDtype) instead\n",
      "  if pd.api.types.is_categorical_dtype(vector):\n",
      "c:\\ProgramData\\miniconda3\\Lib\\site-packages\\seaborn\\_oldcore.py:1498: FutureWarning: is_categorical_dtype is deprecated and will be removed in a future version. Use isinstance(dtype, CategoricalDtype) instead\n",
      "  if pd.api.types.is_categorical_dtype(vector):\n",
      "c:\\ProgramData\\miniconda3\\Lib\\site-packages\\seaborn\\_oldcore.py:1119: FutureWarning: use_inf_as_na option is deprecated and will be removed in a future version. Convert inf values to NaN before operating instead.\n",
      "  with pd.option_context('mode.use_inf_as_na', True):\n",
      "c:\\ProgramData\\miniconda3\\Lib\\site-packages\\seaborn\\_oldcore.py:1119: FutureWarning: use_inf_as_na option is deprecated and will be removed in a future version. Convert inf values to NaN before operating instead.\n",
      "  with pd.option_context('mode.use_inf_as_na', True):\n"
     ]
    },
    {
     "data": {
      "image/png": "[encoded data removed]",
      "text/plain": [
       "<Figure size 1500x500 with 2 Axes>"
      ]
     },
     "metadata": {},
     "output_type": "display_data"
    }
   ],
   "source": [
    "# Plot Training Results\n",
    "\n",
    "model_lstm_2_hist_df = pd.DataFrame(model_lstm_2_hist.history)\n",
    "\n",
    "plt.figure(figsize=(15, 5))\n",
    "plt.subplot(1, 2, 1)\n",
    "sns.lineplot(data=model_lstm_2_hist_df[['accuracy', 'val_accuracy']])\n",
    "plt.grid()\n",
    "plt.title('Accuracy vs Val-Accuracy')\n",
    "\n",
    "plt.subplot(1, 2, 2)\n",
    "sns.lineplot(data=model_lstm_2_hist_df[['loss', 'val_loss']])\n",
    "plt.grid()\n",
    "plt.title('Loss vs Val-Loss')\n",
    "plt.show()"
   ]
  },
  {
   "cell_type": "markdown",
   "metadata": {},
   "source": [
    "### 6.3.4 LSTM with Transfer Learning - 128 Batch"
   ]
  },
  {
   "cell_type": "code",
   "execution_count": 86,
   "metadata": {},
   "outputs": [
    {
     "name": "stdout",
     "output_type": "stream",
     "text": [
      "Epoch 1/20\n",
      "447/447 [==============================] - 42s 77ms/step - loss: 1.3610 - accuracy: 0.3170 - val_loss: 1.3517 - val_accuracy: 0.3349\n",
      "Epoch 2/20\n",
      "447/447 [==============================] - 34s 75ms/step - loss: 1.3440 - accuracy: 0.3520 - val_loss: 1.3348 - val_accuracy: 0.3680\n",
      "Epoch 3/20\n",
      "447/447 [==============================] - 36s 81ms/step - loss: 1.3335 - accuracy: 0.3656 - val_loss: 1.3289 - val_accuracy: 0.3743\n",
      "Epoch 4/20\n",
      "447/447 [==============================] - 35s 78ms/step - loss: 1.3286 - accuracy: 0.3714 - val_loss: 1.3307 - val_accuracy: 0.3696\n",
      "Epoch 5/20\n",
      "447/447 [==============================] - 33s 75ms/step - loss: 1.3245 - accuracy: 0.3752 - val_loss: 1.3328 - val_accuracy: 0.3647\n",
      "Epoch 6/20\n",
      "447/447 [==============================] - 32s 72ms/step - loss: 1.3218 - accuracy: 0.3766 - val_loss: 1.3205 - val_accuracy: 0.3718\n",
      "Epoch 7/20\n",
      "447/447 [==============================] - 33s 74ms/step - loss: 1.3179 - accuracy: 0.3797 - val_loss: 1.3234 - val_accuracy: 0.3686\n",
      "Epoch 8/20\n",
      "447/447 [==============================] - 32s 73ms/step - loss: 1.3159 - accuracy: 0.3827 - val_loss: 1.3171 - val_accuracy: 0.3733\n",
      "Epoch 9/20\n",
      "447/447 [==============================] - 34s 77ms/step - loss: 1.3135 - accuracy: 0.3834 - val_loss: 1.3168 - val_accuracy: 0.3811\n",
      "Epoch 10/20\n",
      "447/447 [==============================] - 36s 81ms/step - loss: 1.3115 - accuracy: 0.3845 - val_loss: 1.3140 - val_accuracy: 0.3784\n",
      "Epoch 11/20\n",
      "447/447 [==============================] - 33s 73ms/step - loss: 1.3090 - accuracy: 0.3872 - val_loss: 1.3127 - val_accuracy: 0.3809\n",
      "Epoch 12/20\n",
      "447/447 [==============================] - 32s 71ms/step - loss: 1.3075 - accuracy: 0.3895 - val_loss: 1.3091 - val_accuracy: 0.3831\n",
      "Epoch 13/20\n",
      "447/447 [==============================] - 31s 70ms/step - loss: 1.3065 - accuracy: 0.3892 - val_loss: 1.3113 - val_accuracy: 0.3762\n",
      "Epoch 14/20\n",
      "447/447 [==============================] - 33s 74ms/step - loss: 1.3040 - accuracy: 0.3923 - val_loss: 1.3079 - val_accuracy: 0.3853\n",
      "Epoch 15/20\n",
      "447/447 [==============================] - 33s 74ms/step - loss: 1.3020 - accuracy: 0.3940 - val_loss: 1.3072 - val_accuracy: 0.3867\n",
      "Epoch 16/20\n",
      "447/447 [==============================] - 32s 72ms/step - loss: 1.3000 - accuracy: 0.3968 - val_loss: 1.2994 - val_accuracy: 0.3922\n",
      "Epoch 17/20\n",
      "447/447 [==============================] - 34s 76ms/step - loss: 1.2971 - accuracy: 0.4002 - val_loss: 1.3033 - val_accuracy: 0.3918\n",
      "Epoch 18/20\n",
      "447/447 [==============================] - 36s 80ms/step - loss: 1.2963 - accuracy: 0.3977 - val_loss: 1.2973 - val_accuracy: 0.3934\n",
      "Epoch 19/20\n",
      "447/447 [==============================] - 34s 75ms/step - loss: 1.2932 - accuracy: 0.4016 - val_loss: 1.3034 - val_accuracy: 0.3845\n",
      "Epoch 20/20\n",
      "447/447 [==============================] - 34s 76ms/step - loss: 1.2914 - accuracy: 0.4012 - val_loss: 1.2960 - val_accuracy: 0.3984\n"
     ]
    }
   ],
   "source": [
    "# Model Training using LSTM with Transfer Learning - 128 Batch\n",
    "\n",
    "## Clear Session\n",
    "seed = 20\n",
    "tf.keras.backend.clear_session()\n",
    "np.random.seed(seed)\n",
    "tf.random.set_seed(seed)\n",
    "\n",
    "## Define the architecture\n",
    "model_lstm_4 = Sequential()\n",
    "model_lstm_4.add(hub_layer)\n",
    "model_lstm_4.add(Reshape((128, 1)))\n",
    "model_lstm_4.add(Bidirectional(LSTM(32, return_sequences=True, kernel_initializer=tf.keras.initializers.GlorotUniform(seed))))\n",
    "model_lstm_4.add(Dropout(0.1))\n",
    "model_lstm_4.add(Bidirectional(LSTM(16, kernel_initializer=tf.keras.initializers.GlorotUniform(seed))))\n",
    "model_lstm_4.add(Dropout(0.1))\n",
    "model_lstm_4.add(Dense(4, activation='softmax'))\n",
    "\n",
    "model_lstm_4.compile(loss='categorical_crossentropy', optimizer='adam', metrics='accuracy')\n",
    "\n",
    "batch = 128\n",
    "model_lstm_4_hist = model_lstm_4.fit(X_train, y_train_ohe, epochs=20, batch_size=batch, validation_data=(X_val, y_val_ohe))"
   ]
  },
  {
   "cell_type": "code",
   "execution_count": 87,
   "metadata": {},
   "outputs": [
    {
     "name": "stderr",
     "output_type": "stream",
     "text": [
      "c:\\ProgramData\\miniconda3\\Lib\\site-packages\\seaborn\\_oldcore.py:1498: FutureWarning: is_categorical_dtype is deprecated and will be removed in a future version. Use isinstance(dtype, CategoricalDtype) instead\n",
      "  if pd.api.types.is_categorical_dtype(vector):\n",
      "c:\\ProgramData\\miniconda3\\Lib\\site-packages\\seaborn\\_oldcore.py:1498: FutureWarning: is_categorical_dtype is deprecated and will be removed in a future version. Use isinstance(dtype, CategoricalDtype) instead\n",
      "  if pd.api.types.is_categorical_dtype(vector):\n",
      "c:\\ProgramData\\miniconda3\\Lib\\site-packages\\seaborn\\_oldcore.py:1498: FutureWarning: is_categorical_dtype is deprecated and will be removed in a future version. Use isinstance(dtype, CategoricalDtype) instead\n",
      "  if pd.api.types.is_categorical_dtype(vector):\n",
      "c:\\ProgramData\\miniconda3\\Lib\\site-packages\\seaborn\\_oldcore.py:1498: FutureWarning: is_categorical_dtype is deprecated and will be removed in a future version. Use isinstance(dtype, CategoricalDtype) instead\n",
      "  if pd.api.types.is_categorical_dtype(vector):\n",
      "c:\\ProgramData\\miniconda3\\Lib\\site-packages\\seaborn\\_oldcore.py:1498: FutureWarning: is_categorical_dtype is deprecated and will be removed in a future version. Use isinstance(dtype, CategoricalDtype) instead\n",
      "  if pd.api.types.is_categorical_dtype(vector):\n",
      "c:\\ProgramData\\miniconda3\\Lib\\site-packages\\seaborn\\_oldcore.py:1498: FutureWarning: is_categorical_dtype is deprecated and will be removed in a future version. Use isinstance(dtype, CategoricalDtype) instead\n",
      "  if pd.api.types.is_categorical_dtype(vector):\n",
      "c:\\ProgramData\\miniconda3\\Lib\\site-packages\\seaborn\\_oldcore.py:1498: FutureWarning: is_categorical_dtype is deprecated and will be removed in a future version. Use isinstance(dtype, CategoricalDtype) instead\n",
      "  if pd.api.types.is_categorical_dtype(vector):\n",
      "c:\\ProgramData\\miniconda3\\Lib\\site-packages\\seaborn\\_oldcore.py:1498: FutureWarning: is_categorical_dtype is deprecated and will be removed in a future version. Use isinstance(dtype, CategoricalDtype) instead\n",
      "  if pd.api.types.is_categorical_dtype(vector):\n",
      "c:\\ProgramData\\miniconda3\\Lib\\site-packages\\seaborn\\_oldcore.py:1498: FutureWarning: is_categorical_dtype is deprecated and will be removed in a future version. Use isinstance(dtype, CategoricalDtype) instead\n",
      "  if pd.api.types.is_categorical_dtype(vector):\n",
      "c:\\ProgramData\\miniconda3\\Lib\\site-packages\\seaborn\\_oldcore.py:1498: FutureWarning: is_categorical_dtype is deprecated and will be removed in a future version. Use isinstance(dtype, CategoricalDtype) instead\n",
      "  if pd.api.types.is_categorical_dtype(vector):\n",
      "c:\\ProgramData\\miniconda3\\Lib\\site-packages\\seaborn\\_oldcore.py:1498: FutureWarning: is_categorical_dtype is deprecated and will be removed in a future version. Use isinstance(dtype, CategoricalDtype) instead\n",
      "  if pd.api.types.is_categorical_dtype(vector):\n",
      "c:\\ProgramData\\miniconda3\\Lib\\site-packages\\seaborn\\_oldcore.py:1498: FutureWarning: is_categorical_dtype is deprecated and will be removed in a future version. Use isinstance(dtype, CategoricalDtype) instead\n",
      "  if pd.api.types.is_categorical_dtype(vector):\n",
      "c:\\ProgramData\\miniconda3\\Lib\\site-packages\\seaborn\\_oldcore.py:1119: FutureWarning: use_inf_as_na option is deprecated and will be removed in a future version. Convert inf values to NaN before operating instead.\n",
      "  with pd.option_context('mode.use_inf_as_na', True):\n",
      "c:\\ProgramData\\miniconda3\\Lib\\site-packages\\seaborn\\_oldcore.py:1119: FutureWarning: use_inf_as_na option is deprecated and will be removed in a future version. Convert inf values to NaN before operating instead.\n",
      "  with pd.option_context('mode.use_inf_as_na', True):\n",
      "c:\\ProgramData\\miniconda3\\Lib\\site-packages\\seaborn\\_oldcore.py:1498: FutureWarning: is_categorical_dtype is deprecated and will be removed in a future version. Use isinstance(dtype, CategoricalDtype) instead\n",
      "  if pd.api.types.is_categorical_dtype(vector):\n",
      "c:\\ProgramData\\miniconda3\\Lib\\site-packages\\seaborn\\_oldcore.py:1498: FutureWarning: is_categorical_dtype is deprecated and will be removed in a future version. Use isinstance(dtype, CategoricalDtype) instead\n",
      "  if pd.api.types.is_categorical_dtype(vector):\n",
      "c:\\ProgramData\\miniconda3\\Lib\\site-packages\\seaborn\\_oldcore.py:1498: FutureWarning: is_categorical_dtype is deprecated and will be removed in a future version. Use isinstance(dtype, CategoricalDtype) instead\n",
      "  if pd.api.types.is_categorical_dtype(vector):\n",
      "c:\\ProgramData\\miniconda3\\Lib\\site-packages\\seaborn\\_oldcore.py:1498: FutureWarning: is_categorical_dtype is deprecated and will be removed in a future version. Use isinstance(dtype, CategoricalDtype) instead\n",
      "  if pd.api.types.is_categorical_dtype(vector):\n",
      "c:\\ProgramData\\miniconda3\\Lib\\site-packages\\seaborn\\_oldcore.py:1498: FutureWarning: is_categorical_dtype is deprecated and will be removed in a future version. Use isinstance(dtype, CategoricalDtype) instead\n",
      "  if pd.api.types.is_categorical_dtype(vector):\n",
      "c:\\ProgramData\\miniconda3\\Lib\\site-packages\\seaborn\\_oldcore.py:1498: FutureWarning: is_categorical_dtype is deprecated and will be removed in a future version. Use isinstance(dtype, CategoricalDtype) instead\n",
      "  if pd.api.types.is_categorical_dtype(vector):\n",
      "c:\\ProgramData\\miniconda3\\Lib\\site-packages\\seaborn\\_oldcore.py:1498: FutureWarning: is_categorical_dtype is deprecated and will be removed in a future version. Use isinstance(dtype, CategoricalDtype) instead\n",
      "  if pd.api.types.is_categorical_dtype(vector):\n",
      "c:\\ProgramData\\miniconda3\\Lib\\site-packages\\seaborn\\_oldcore.py:1498: FutureWarning: is_categorical_dtype is deprecated and will be removed in a future version. Use isinstance(dtype, CategoricalDtype) instead\n",
      "  if pd.api.types.is_categorical_dtype(vector):\n",
      "c:\\ProgramData\\miniconda3\\Lib\\site-packages\\seaborn\\_oldcore.py:1498: FutureWarning: is_categorical_dtype is deprecated and will be removed in a future version. Use isinstance(dtype, CategoricalDtype) instead\n",
      "  if pd.api.types.is_categorical_dtype(vector):\n",
      "c:\\ProgramData\\miniconda3\\Lib\\site-packages\\seaborn\\_oldcore.py:1498: FutureWarning: is_categorical_dtype is deprecated and will be removed in a future version. Use isinstance(dtype, CategoricalDtype) instead\n",
      "  if pd.api.types.is_categorical_dtype(vector):\n",
      "c:\\ProgramData\\miniconda3\\Lib\\site-packages\\seaborn\\_oldcore.py:1498: FutureWarning: is_categorical_dtype is deprecated and will be removed in a future version. Use isinstance(dtype, CategoricalDtype) instead\n",
      "  if pd.api.types.is_categorical_dtype(vector):\n",
      "c:\\ProgramData\\miniconda3\\Lib\\site-packages\\seaborn\\_oldcore.py:1498: FutureWarning: is_categorical_dtype is deprecated and will be removed in a future version. Use isinstance(dtype, CategoricalDtype) instead\n",
      "  if pd.api.types.is_categorical_dtype(vector):\n",
      "c:\\ProgramData\\miniconda3\\Lib\\site-packages\\seaborn\\_oldcore.py:1119: FutureWarning: use_inf_as_na option is deprecated and will be removed in a future version. Convert inf values to NaN before operating instead.\n",
      "  with pd.option_context('mode.use_inf_as_na', True):\n",
      "c:\\ProgramData\\miniconda3\\Lib\\site-packages\\seaborn\\_oldcore.py:1119: FutureWarning: use_inf_as_na option is deprecated and will be removed in a future version. Convert inf values to NaN before operating instead.\n",
      "  with pd.option_context('mode.use_inf_as_na', True):\n"
     ]
    },
    {
     "data": {
      "image/png": "[encoded data removed]",
      "text/plain": [
       "<Figure size 1500x500 with 2 Axes>"
      ]
     },
     "metadata": {},
     "output_type": "display_data"
    }
   ],
   "source": [
    "# Plot Training Results\n",
    "\n",
    "model_lstm_4_hist_df = pd.DataFrame(model_lstm_4_hist.history)\n",
    "\n",
    "plt.figure(figsize=(15, 5))\n",
    "plt.subplot(1, 2, 1)\n",
    "sns.lineplot(data=model_lstm_4_hist_df[['accuracy', 'val_accuracy']])\n",
    "plt.grid()\n",
    "plt.title('Accuracy vs Val-Accuracy')\n",
    "\n",
    "plt.subplot(1, 2, 2)\n",
    "sns.lineplot(data=model_lstm_4_hist_df[['loss', 'val_loss']])\n",
    "plt.grid()\n",
    "plt.title('Loss vs Val-Loss')\n",
    "plt.show()"
   ]
  }
 ],
 "metadata": {
  "kernelspec": {
   "display_name": "base",
   "language": "python",
   "name": "python3"
  },
  "language_info": {
   "codemirror_mode": {
    "name": "ipython",
    "version": 3
   },
   "file_extension": ".py",
   "mimetype": "text/x-python",
   "name": "python",
   "nbconvert_exporter": "python",
   "pygments_lexer": "ipython3",
   "version": "3.11.4"
  }
 },
 "nbformat": 4,
 "nbformat_minor": 2
}
